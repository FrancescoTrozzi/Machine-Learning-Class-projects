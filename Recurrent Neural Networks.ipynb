{
 "cells": [
  {
   "cell_type": "markdown",
   "metadata": {},
   "source": [
    "# <center>CS 7324 Lab 7\n",
    "## <center>Francesco Trozzi (47779944) - George Sammit (04010135) - Megan Simons (46334773)"
   ]
  },
  {
   "cell_type": "markdown",
   "metadata": {},
   "source": [
    "# General"
   ]
  },
  {
   "cell_type": "markdown",
   "metadata": {},
   "source": [
    "## Imports"
   ]
  },
  {
   "cell_type": "code",
   "execution_count": 51,
   "metadata": {},
   "outputs": [],
   "source": [
    "#General\n",
    "import numpy as np\n",
    "import pandas as pd \n",
    "import os\n",
    "\n",
    "#Pre-processing\n",
    "from bs4 import BeautifulSoup\n",
    "\n",
    "#Utilites\n",
    "from sklearn.model_selection import StratifiedShuffleSplit\n",
    "import tensorflow.keras\n",
    "from tensorflow.keras.preprocessing.text import Tokenizer\n",
    "from tensorflow.keras.preprocessing.sequence import pad_sequences\n",
    "from tensorflow.keras.preprocessing import sequence\n",
    "from tensorflow.keras.utils import to_categorical\n",
    "\n",
    "# Modeling\n",
    "from tensorflow.keras.layers import SimpleRNN, LSTM, GRU, Input, Dense, Embedding\n",
    "from tensorflow.keras.models import Model\n",
    "from tensorflow.keras.optimizers import Adam\n",
    "from tensorflow.keras import regularizers\n",
    "\n",
    "#For plotting\n",
    "import matplotlib\n",
    "import matplotlib.pyplot as plt\n",
    "import warnings\n",
    "warnings.simplefilter('ignore', DeprecationWarning)\n",
    "%matplotlib inline \n",
    "import seaborn as sns\n",
    "from scipy import stats\n",
    "\n",
    "import warnings\n",
    "warnings.filterwarnings(\"ignore\")"
   ]
  },
  {
   "cell_type": "markdown",
   "metadata": {},
   "source": [
    "### Constants"
   ]
  },
  {
   "cell_type": "code",
   "execution_count": 52,
   "metadata": {},
   "outputs": [],
   "source": [
    "NUM_TOP_WORDS = 5000 # Could be modified durning tokenization\n",
    "MAX_ART_LEN = 800 # Calculated below\n",
    "\n",
    "NEG_SENTIMENT = 0\n",
    "POS_SENTIMENT = 1\n",
    "\n",
    "NUM_CLASSES = 2\n",
    "EMBED_SIZE = 25\n",
    "EPOCHS = 25"
   ]
  },
  {
   "cell_type": "markdown",
   "metadata": {},
   "source": [
    "# Pre-processing\n",
    "### Load data (https://www.kaggle.com/lakshmi25npathi/imdb-dataset-of-50k-movie-reviews)"
   ]
  },
  {
   "cell_type": "code",
   "execution_count": 53,
   "metadata": {},
   "outputs": [],
   "source": [
    "df = pd.read_csv('IMDB Dataset.csv')"
   ]
  },
  {
   "cell_type": "code",
   "execution_count": 54,
   "metadata": {},
   "outputs": [
    {
     "data": {
      "text/html": [
       "<div>\n",
       "<style scoped>\n",
       "    .dataframe tbody tr th:only-of-type {\n",
       "        vertical-align: middle;\n",
       "    }\n",
       "\n",
       "    .dataframe tbody tr th {\n",
       "        vertical-align: top;\n",
       "    }\n",
       "\n",
       "    .dataframe thead th {\n",
       "        text-align: right;\n",
       "    }\n",
       "</style>\n",
       "<table border=\"1\" class=\"dataframe\">\n",
       "  <thead>\n",
       "    <tr style=\"text-align: right;\">\n",
       "      <th></th>\n",
       "      <th>review</th>\n",
       "      <th>sentiment</th>\n",
       "    </tr>\n",
       "  </thead>\n",
       "  <tbody>\n",
       "    <tr>\n",
       "      <th>0</th>\n",
       "      <td>One of the other reviewers has mentioned that ...</td>\n",
       "      <td>positive</td>\n",
       "    </tr>\n",
       "    <tr>\n",
       "      <th>1</th>\n",
       "      <td>A wonderful little production. &lt;br /&gt;&lt;br /&gt;The...</td>\n",
       "      <td>positive</td>\n",
       "    </tr>\n",
       "    <tr>\n",
       "      <th>2</th>\n",
       "      <td>I thought this was a wonderful way to spend ti...</td>\n",
       "      <td>positive</td>\n",
       "    </tr>\n",
       "    <tr>\n",
       "      <th>3</th>\n",
       "      <td>Basically there's a family where a little boy ...</td>\n",
       "      <td>negative</td>\n",
       "    </tr>\n",
       "    <tr>\n",
       "      <th>4</th>\n",
       "      <td>Petter Mattei's \"Love in the Time of Money\" is...</td>\n",
       "      <td>positive</td>\n",
       "    </tr>\n",
       "  </tbody>\n",
       "</table>\n",
       "</div>"
      ],
      "text/plain": [
       "                                              review sentiment\n",
       "0  One of the other reviewers has mentioned that ...  positive\n",
       "1  A wonderful little production. <br /><br />The...  positive\n",
       "2  I thought this was a wonderful way to spend ti...  positive\n",
       "3  Basically there's a family where a little boy ...  negative\n",
       "4  Petter Mattei's \"Love in the Time of Money\" is...  positive"
      ]
     },
     "execution_count": 54,
     "metadata": {},
     "output_type": "execute_result"
    }
   ],
   "source": [
    "df.head()"
   ]
  },
  {
   "cell_type": "markdown",
   "metadata": {},
   "source": [
    "### Remove html markups"
   ]
  },
  {
   "cell_type": "markdown",
   "metadata": {},
   "source": [
    "We notice the presence of html markups, which we remove using the code found in:\n",
    "https://stackoverflow.com/questions/44703945/pandas-trouble-stripping-html-tags-from-dataframe-column"
   ]
  },
  {
   "cell_type": "code",
   "execution_count": 55,
   "metadata": {},
   "outputs": [],
   "source": [
    "df['review'] = [BeautifulSoup(text).get_text() for text in df['review'] ]"
   ]
  },
  {
   "cell_type": "code",
   "execution_count": 56,
   "metadata": {},
   "outputs": [
    {
     "data": {
      "text/html": [
       "<div>\n",
       "<style scoped>\n",
       "    .dataframe tbody tr th:only-of-type {\n",
       "        vertical-align: middle;\n",
       "    }\n",
       "\n",
       "    .dataframe tbody tr th {\n",
       "        vertical-align: top;\n",
       "    }\n",
       "\n",
       "    .dataframe thead th {\n",
       "        text-align: right;\n",
       "    }\n",
       "</style>\n",
       "<table border=\"1\" class=\"dataframe\">\n",
       "  <thead>\n",
       "    <tr style=\"text-align: right;\">\n",
       "      <th></th>\n",
       "      <th>review</th>\n",
       "      <th>sentiment</th>\n",
       "    </tr>\n",
       "  </thead>\n",
       "  <tbody>\n",
       "    <tr>\n",
       "      <th>0</th>\n",
       "      <td>One of the other reviewers has mentioned that ...</td>\n",
       "      <td>positive</td>\n",
       "    </tr>\n",
       "    <tr>\n",
       "      <th>1</th>\n",
       "      <td>A wonderful little production. The filming tec...</td>\n",
       "      <td>positive</td>\n",
       "    </tr>\n",
       "    <tr>\n",
       "      <th>2</th>\n",
       "      <td>I thought this was a wonderful way to spend ti...</td>\n",
       "      <td>positive</td>\n",
       "    </tr>\n",
       "    <tr>\n",
       "      <th>3</th>\n",
       "      <td>Basically there's a family where a little boy ...</td>\n",
       "      <td>negative</td>\n",
       "    </tr>\n",
       "    <tr>\n",
       "      <th>4</th>\n",
       "      <td>Petter Mattei's \"Love in the Time of Money\" is...</td>\n",
       "      <td>positive</td>\n",
       "    </tr>\n",
       "  </tbody>\n",
       "</table>\n",
       "</div>"
      ],
      "text/plain": [
       "                                              review sentiment\n",
       "0  One of the other reviewers has mentioned that ...  positive\n",
       "1  A wonderful little production. The filming tec...  positive\n",
       "2  I thought this was a wonderful way to spend ti...  positive\n",
       "3  Basically there's a family where a little boy ...  negative\n",
       "4  Petter Mattei's \"Love in the Time of Money\" is...  positive"
      ]
     },
     "execution_count": 56,
     "metadata": {},
     "output_type": "execute_result"
    }
   ],
   "source": [
    "df.head()"
   ]
  },
  {
   "cell_type": "markdown",
   "metadata": {},
   "source": [
    "### Case-sensitvity and punctuation"
   ]
  },
  {
   "cell_type": "markdown",
   "metadata": {},
   "source": [
    "We then removed all the punctuation and transform every letter to lower-case. The reason is we do not want a case sensitive classification, which would greatly increase the number of words, and characters such as punctuation which do not carry any meaning. \n",
    "Example taken from: https://medium.com/@lamiae.hana/a-step-by-step-guide-on-sentiment-analysis-with-rnn-and-lstm-3a293817e314"
   ]
  },
  {
   "cell_type": "code",
   "execution_count": 57,
   "metadata": {},
   "outputs": [],
   "source": [
    "from string import punctuation\n",
    "df['review'] = [text.lower() for text in df['review']]\n",
    "df['review'] = df['review'].str.replace('[{}]'.format(punctuation), ' ')"
   ]
  },
  {
   "cell_type": "code",
   "execution_count": 58,
   "metadata": {},
   "outputs": [
    {
     "data": {
      "text/html": [
       "<div>\n",
       "<style scoped>\n",
       "    .dataframe tbody tr th:only-of-type {\n",
       "        vertical-align: middle;\n",
       "    }\n",
       "\n",
       "    .dataframe tbody tr th {\n",
       "        vertical-align: top;\n",
       "    }\n",
       "\n",
       "    .dataframe thead th {\n",
       "        text-align: right;\n",
       "    }\n",
       "</style>\n",
       "<table border=\"1\" class=\"dataframe\">\n",
       "  <thead>\n",
       "    <tr style=\"text-align: right;\">\n",
       "      <th></th>\n",
       "      <th>review</th>\n",
       "      <th>sentiment</th>\n",
       "    </tr>\n",
       "  </thead>\n",
       "  <tbody>\n",
       "    <tr>\n",
       "      <th>0</th>\n",
       "      <td>one of the other reviewers has mentioned that ...</td>\n",
       "      <td>positive</td>\n",
       "    </tr>\n",
       "    <tr>\n",
       "      <th>1</th>\n",
       "      <td>a wonderful little production  the filming tec...</td>\n",
       "      <td>positive</td>\n",
       "    </tr>\n",
       "    <tr>\n",
       "      <th>2</th>\n",
       "      <td>i thought this was a wonderful way to spend ti...</td>\n",
       "      <td>positive</td>\n",
       "    </tr>\n",
       "    <tr>\n",
       "      <th>3</th>\n",
       "      <td>basically there s a family where a little boy ...</td>\n",
       "      <td>negative</td>\n",
       "    </tr>\n",
       "    <tr>\n",
       "      <th>4</th>\n",
       "      <td>petter mattei s  love in the time of money  is...</td>\n",
       "      <td>positive</td>\n",
       "    </tr>\n",
       "  </tbody>\n",
       "</table>\n",
       "</div>"
      ],
      "text/plain": [
       "                                              review sentiment\n",
       "0  one of the other reviewers has mentioned that ...  positive\n",
       "1  a wonderful little production  the filming tec...  positive\n",
       "2  i thought this was a wonderful way to spend ti...  positive\n",
       "3  basically there s a family where a little boy ...  negative\n",
       "4  petter mattei s  love in the time of money  is...  positive"
      ]
     },
     "execution_count": 58,
     "metadata": {},
     "output_type": "execute_result"
    }
   ],
   "source": [
    "df.head()"
   ]
  },
  {
   "cell_type": "code",
   "execution_count": 59,
   "metadata": {},
   "outputs": [],
   "source": [
    "meaningless = [' at ', ' in ', ' on ', ' s ', ' a ', ' an ', ' the ']\n",
    "df['review'] = [' '+text for text in df['review']]"
   ]
  },
  {
   "cell_type": "code",
   "execution_count": 60,
   "metadata": {},
   "outputs": [],
   "source": [
    "for m in meaningless:\n",
    "    df['review'] = df['review'].str.replace(m, ' ')"
   ]
  },
  {
   "cell_type": "code",
   "execution_count": 61,
   "metadata": {},
   "outputs": [
    {
     "data": {
      "text/html": [
       "<div>\n",
       "<style scoped>\n",
       "    .dataframe tbody tr th:only-of-type {\n",
       "        vertical-align: middle;\n",
       "    }\n",
       "\n",
       "    .dataframe tbody tr th {\n",
       "        vertical-align: top;\n",
       "    }\n",
       "\n",
       "    .dataframe thead th {\n",
       "        text-align: right;\n",
       "    }\n",
       "</style>\n",
       "<table border=\"1\" class=\"dataframe\">\n",
       "  <thead>\n",
       "    <tr style=\"text-align: right;\">\n",
       "      <th></th>\n",
       "      <th>review</th>\n",
       "      <th>sentiment</th>\n",
       "    </tr>\n",
       "  </thead>\n",
       "  <tbody>\n",
       "    <tr>\n",
       "      <th>0</th>\n",
       "      <td>one of other reviewers has mentioned that aft...</td>\n",
       "      <td>positive</td>\n",
       "    </tr>\n",
       "    <tr>\n",
       "      <th>1</th>\n",
       "      <td>wonderful little production  filming techniqu...</td>\n",
       "      <td>positive</td>\n",
       "    </tr>\n",
       "    <tr>\n",
       "      <th>2</th>\n",
       "      <td>i thought this was wonderful way to spend tim...</td>\n",
       "      <td>positive</td>\n",
       "    </tr>\n",
       "    <tr>\n",
       "      <th>3</th>\n",
       "      <td>basically there family where little boy  jake...</td>\n",
       "      <td>negative</td>\n",
       "    </tr>\n",
       "    <tr>\n",
       "      <th>4</th>\n",
       "      <td>petter mattei  love time of money  is visuall...</td>\n",
       "      <td>positive</td>\n",
       "    </tr>\n",
       "  </tbody>\n",
       "</table>\n",
       "</div>"
      ],
      "text/plain": [
       "                                              review sentiment\n",
       "0   one of other reviewers has mentioned that aft...  positive\n",
       "1   wonderful little production  filming techniqu...  positive\n",
       "2   i thought this was wonderful way to spend tim...  positive\n",
       "3   basically there family where little boy  jake...  negative\n",
       "4   petter mattei  love time of money  is visuall...  positive"
      ]
     },
     "execution_count": 61,
     "metadata": {},
     "output_type": "execute_result"
    }
   ],
   "source": [
    "df.head()"
   ]
  },
  {
   "cell_type": "markdown",
   "metadata": {},
   "source": [
    "### Vizualize the length distribution"
   ]
  },
  {
   "cell_type": "code",
   "execution_count": 62,
   "metadata": {},
   "outputs": [],
   "source": [
    "split = df['review'].str.split()"
   ]
  },
  {
   "cell_type": "code",
   "execution_count": 63,
   "metadata": {},
   "outputs": [
    {
     "data": {
      "text/plain": [
       "count    50000.000000\n",
       "mean       206.298920\n",
       "std        151.702356\n",
       "min          4.000000\n",
       "50%        155.000000\n",
       "75%        250.000000\n",
       "90%        401.000000\n",
       "95%        523.000000\n",
       "99%        802.010000\n",
       "max       2145.000000\n",
       "Name: review, dtype: float64"
      ]
     },
     "execution_count": 63,
     "metadata": {},
     "output_type": "execute_result"
    }
   ],
   "source": [
    "lengths = split.apply(len)\n",
    "lengths.describe(percentiles=[.5, .75, .9, .95, .99])"
   ]
  },
  {
   "cell_type": "code",
   "execution_count": 64,
   "metadata": {},
   "outputs": [
    {
     "data": {
      "image/png": "[encoded data removed]",
      "text/plain": [
       "<Figure size 432x288 with 1 Axes>"
      ]
     },
     "metadata": {
      "needs_background": "light"
     },
     "output_type": "display_data"
    }
   ],
   "source": [
    "plt.hist(lengths, bins='auto')\n",
    "plt.show()"
   ]
  },
  {
   "cell_type": "markdown",
   "metadata": {},
   "source": [
    "Baseded on the above, we chose a length of 2,000.  About 1/2 of the reviews are approximately 1,000 words or less, and the distribution is clearly right skewed.  We feel that 2,000 is an appropriate balance between padding and truncating"
   ]
  },
  {
   "cell_type": "markdown",
   "metadata": {},
   "source": [
    "Lastly we move our pre-processing to the labels. We transform the sentiment from string to int."
   ]
  },
  {
   "cell_type": "code",
   "execution_count": 65,
   "metadata": {},
   "outputs": [
    {
     "data": {
      "text/html": [
       "<div>\n",
       "<style scoped>\n",
       "    .dataframe tbody tr th:only-of-type {\n",
       "        vertical-align: middle;\n",
       "    }\n",
       "\n",
       "    .dataframe tbody tr th {\n",
       "        vertical-align: top;\n",
       "    }\n",
       "\n",
       "    .dataframe thead th {\n",
       "        text-align: right;\n",
       "    }\n",
       "</style>\n",
       "<table border=\"1\" class=\"dataframe\">\n",
       "  <thead>\n",
       "    <tr style=\"text-align: right;\">\n",
       "      <th></th>\n",
       "      <th>review</th>\n",
       "      <th>sentiment</th>\n",
       "    </tr>\n",
       "  </thead>\n",
       "  <tbody>\n",
       "    <tr>\n",
       "      <th>0</th>\n",
       "      <td>one of other reviewers has mentioned that aft...</td>\n",
       "      <td>1</td>\n",
       "    </tr>\n",
       "    <tr>\n",
       "      <th>1</th>\n",
       "      <td>wonderful little production  filming techniqu...</td>\n",
       "      <td>1</td>\n",
       "    </tr>\n",
       "    <tr>\n",
       "      <th>2</th>\n",
       "      <td>i thought this was wonderful way to spend tim...</td>\n",
       "      <td>1</td>\n",
       "    </tr>\n",
       "    <tr>\n",
       "      <th>3</th>\n",
       "      <td>basically there family where little boy  jake...</td>\n",
       "      <td>0</td>\n",
       "    </tr>\n",
       "    <tr>\n",
       "      <th>4</th>\n",
       "      <td>petter mattei  love time of money  is visuall...</td>\n",
       "      <td>1</td>\n",
       "    </tr>\n",
       "  </tbody>\n",
       "</table>\n",
       "</div>"
      ],
      "text/plain": [
       "                                              review  sentiment\n",
       "0   one of other reviewers has mentioned that aft...          1\n",
       "1   wonderful little production  filming techniqu...          1\n",
       "2   i thought this was wonderful way to spend tim...          1\n",
       "3   basically there family where little boy  jake...          0\n",
       "4   petter mattei  love time of money  is visuall...          1"
      ]
     },
     "execution_count": 65,
     "metadata": {},
     "output_type": "execute_result"
    }
   ],
   "source": [
    "df['sentiment'] =df['sentiment'].replace('negative', value=NEG_SENTIMENT)\n",
    "df['sentiment'] =df['sentiment'].replace('positive', value=POS_SENTIMENT)\n",
    "df.head()"
   ]
  },
  {
   "cell_type": "markdown",
   "metadata": {},
   "source": [
    "### Tokenization"
   ]
  },
  {
   "cell_type": "code",
   "execution_count": 66,
   "metadata": {},
   "outputs": [
    {
     "name": "stdout",
     "output_type": "stream",
     "text": [
      "Found 106118 unique tokens. Distilled to 5000 top words.\n"
     ]
    }
   ],
   "source": [
    "tokenizer = Tokenizer(num_words=NUM_TOP_WORDS)\n",
    "tokenizer.fit_on_texts(df['review'])\n",
    "sequences = tokenizer.texts_to_sequences(df['review'])\n",
    "\n",
    "word_index = tokenizer.word_index\n",
    "NUM_TOP_WORDS = len(word_index) if NUM_TOP_WORDS==None else NUM_TOP_WORDS\n",
    "NUM_TOP_WORDS = min((len(word_index),NUM_TOP_WORDS))\n",
    "print('Found %s unique tokens. Distilled to %d top words.' % (len(word_index),NUM_TOP_WORDS))"
   ]
  },
  {
   "cell_type": "code",
   "execution_count": 67,
   "metadata": {},
   "outputs": [
    {
     "name": "stdout",
     "output_type": "stream",
     "text": [
      "Shape of data tensor: (50000, 800)\n",
      "Shape of label tensor: (50000, 2)\n",
      "4999\n"
     ]
    }
   ],
   "source": [
    "X = pad_sequences(sequences, maxlen=MAX_ART_LEN)\n",
    "\n",
    "y_ohe = to_categorical(df['sentiment'])\n",
    "print('Shape of data tensor:', X.shape)\n",
    "print('Shape of label tensor:', y_ohe.shape)\n",
    "print(np.max(X))"
   ]
  },
  {
   "cell_type": "code",
   "execution_count": 68,
   "metadata": {},
   "outputs": [
    {
     "data": {
      "text/plain": [
       "array([[0., 1.],\n",
       "       [0., 1.],\n",
       "       [0., 1.],\n",
       "       ...,\n",
       "       [1., 0.],\n",
       "       [1., 0.],\n",
       "       [1., 0.]], dtype=float32)"
      ]
     },
     "execution_count": 68,
     "metadata": {},
     "output_type": "execute_result"
    }
   ],
   "source": [
    "y_ohe"
   ]
  },
  {
   "cell_type": "markdown",
   "metadata": {},
   "source": [
    "## Metrics\n",
    "\n",
    "Here, we're attempting to identify binary sentiment (positive or negative) of movie reviews left by the general population on IMDb.  The real IMDb rating system in based on a 0-10 star rating, and users must be logged-on to rate movies and leave textual reviews.  We do not have that data.  We simply have the text of the review.  The best we can do here is create a layman's version of the Siskel & Ebert thumbs-up or thumbs-down rating system.  Precision, recall, F-score, and accuracy all seem appropriate here"
   ]
  },
  {
   "cell_type": "code",
   "execution_count": 69,
   "metadata": {},
   "outputs": [
    {
     "data": {
      "text/plain": [
       "1    25000\n",
       "0    25000\n",
       "Name: sentiment, dtype: int64"
      ]
     },
     "execution_count": 69,
     "metadata": {},
     "output_type": "execute_result"
    }
   ],
   "source": [
    "df['sentiment'].value_counts()"
   ]
  },
  {
   "cell_type": "markdown",
   "metadata": {},
   "source": [
    "As may be seen above, the sentiments that we have are evenly distributed.  Given the ambiguios nature of determining sentiment from text, i.e. identfying ground truth, the notion of false positives/negatives become gray. This is particularly true for those that didn't feel very strongly about their rating, e.g. \"it was okay.\"  Was that a positive of negative rating?  These points lead us to believe that *accuracy* is the best metrci for this case."
   ]
  },
  {
   "cell_type": "markdown",
   "metadata": {},
   "source": [
    "## Train/Test Split\n",
    "When normal training/test split is done, the split is done randomly and places the first X% of data in training and places the remaining X% of data in testing. Since we cannot fully ensure our training/test split is done randomly, there might end up being some bias. If one class ended up fully in training or testing, this would lead to our model not being able to learn and classify each animal properly. Therefore, to ensure total randomization between the 2 equal classifications, we will use shuffle splits. This way, we can decrease the likelihood of bias occurring in the split by decreasing the likelihood that the classes will not be split well. Since the number of sentiments (positive or negative) is equal among classes, once the shuffling has occurred we can do the usual 0.8/0.2 train/test split. Additionally, the large data set of 10,000+ reviews will help with reducing bias."
   ]
  },
  {
   "cell_type": "code",
   "execution_count": 70,
   "metadata": {},
   "outputs": [
    {
     "name": "stdout",
     "output_type": "stream",
     "text": [
      "Split 1 X_train: 10000 X_test: 2500 y_train 10000 y_test 2500\n",
      "Split 2 X_train: 10000 X_test: 2500 y_train 10000 y_test 2500\n",
      "Split 3 X_train: 10000 X_test: 2500 y_train 10000 y_test 2500\n",
      "Split 4 X_train: 10000 X_test: 2500 y_train 10000 y_test 2500\n",
      "Split 5 X_train: 10000 X_test: 2500 y_train 10000 y_test 2500\n"
     ]
    }
   ],
   "source": [
    "splitter = StratifiedShuffleSplit(n_splits=5, train_size=0.2, test_size=0.05)\n",
    "\n",
    "# Sample\n",
    "count = 0\n",
    "for train_index, test_index in splitter.split(X, y_ohe):\n",
    "    count += 1\n",
    "    X_train, X_test = X[train_index], X[test_index]\n",
    "    y_train, y_test = y_ohe[train_index], y_ohe[test_index]\n",
    "    print(\"Split {} X_train: {} X_test: {} y_train {} y_test {}\".format(count, \n",
    "                                                                       X_train.shape[0], \n",
    "                                                                       X_test.shape[0], \n",
    "                                                                       y_train.shape[0],\n",
    "                                                                       y_test.shape[0]))"
   ]
  },
  {
   "cell_type": "code",
   "execution_count": 71,
   "metadata": {},
   "outputs": [
    {
     "name": "stdout",
     "output_type": "stream",
     "text": [
      "X_train shape <class 'numpy.ndarray'> (10000, 800)\n",
      "X_train[0] shape <class 'numpy.ndarray'> (800,)\n",
      "Vocabulary size: 4999\n",
      "\n",
      "y_train shape <class 'numpy.ndarray'> (10000, 2)\n",
      "y_train range 0.0 - 1.0\n"
     ]
    }
   ],
   "source": [
    "print(\"X_train shape {} {}\".format(type(X_train), X_train.shape))\n",
    "print(\"X_train[0] shape {} {}\".format(type(X_train[0]), X_train[0].shape))\n",
    "print('Vocabulary size:', np.max(X_train))\n",
    "print()\n",
    "print(\"y_train shape {} {}\".format(type(y_train), y_train.shape))\n",
    "print(\"y_train range {} - {}\".format(np.min(y_train), np.max(y_train)))\n"
   ]
  },
  {
   "cell_type": "markdown",
   "metadata": {},
   "source": [
    "# Modeling"
   ]
  },
  {
   "cell_type": "markdown",
   "metadata": {},
   "source": [
    "### Utilities"
   ]
  },
  {
   "cell_type": "code",
   "execution_count": 121,
   "metadata": {},
   "outputs": [],
   "source": [
    "def plot_history(histories, to_plot):\n",
    "    fig, axs = plt.subplots(1,2, sharey=True, figsize=(12,6))\n",
    "    for history in histories:\n",
    "        axs[0].plot(history.history[to_plot])\n",
    "        axs[1].plot(history.history['val_'+to_plot])\n",
    "\n",
    "    axs[0].set_title('Training ')\n",
    "    axs[1].set_title('Validation')\n",
    "    for ax in axs.flat:\n",
    "        ax.set(xlabel='Epochs')\n",
    "    \n",
    "    plt.suptitle('Model ' + to_plot.capitalize())\n",
    "    plt.tight_layout()\n",
    "    plt.show()\n",
    "    \n",
    "def plot_accuracy(histories):\n",
    "    plot_history(histories, 'acc')"
   ]
  },
  {
   "cell_type": "code",
   "execution_count": 73,
   "metadata": {},
   "outputs": [],
   "source": [
    "def run_model(model):\n",
    "    histories = []\n",
    "    for train_index, test_index in splitter.split(X, y_ohe):\n",
    "        X_train, X_test = X[train_index], X[test_index]\n",
    "        y_train, y_test = y_ohe[train_index], y_ohe[test_index]\n",
    "        history = model.fit(X_train, y_train, epochs=EPOCHS, batch_size=64, validation_data=(X_test, y_test))\n",
    "        histories.append(history)\n",
    "    return histories"
   ]
  },
  {
   "cell_type": "code",
   "execution_count": 122,
   "metadata": {},
   "outputs": [],
   "source": [
    "def flatten(histories):\n",
    "    flat = np.array([])\n",
    "    for history in histories:\n",
    "        flat = np.append(flat, min(history.history['acc']))\n",
    "    return flat"
   ]
  },
  {
   "cell_type": "markdown",
   "metadata": {},
   "source": [
    "### GloVe Embedding\n",
    "After attempting to train the embedding, we decided to give GloVe (https://nlp.stanford.edu/projects/glove/) a try.  We're using the Wikipedia 2014 + Gigaword 5 (6B tokens, 400K vocab, uncased, 50d) version\n",
    "\n",
    "Due to time constraints, the following code is taken verbatum from https://blog.keras.io/using-pre-trained-word-embeddings-in-a-keras-model.html"
   ]
  },
  {
   "cell_type": "code",
   "execution_count": 75,
   "metadata": {},
   "outputs": [
    {
     "name": "stdout",
     "output_type": "stream",
     "text": [
      "Found 400000 word vectors.\n"
     ]
    }
   ],
   "source": [
    "embeddings_index = {}\n",
    "f = open(os.path.join('.', 'glove.6B.50d.txt'), encoding=\"utf8\")\n",
    "for line in f:\n",
    "    values = line.split()\n",
    "    word = values[0]\n",
    "    coefs = np.asarray(values[1:], dtype='float32')\n",
    "    embeddings_index[word] = coefs\n",
    "f.close()\n",
    "\n",
    "print('Found %s word vectors.' % len(embeddings_index))"
   ]
  },
  {
   "cell_type": "code",
   "execution_count": 76,
   "metadata": {},
   "outputs": [],
   "source": [
    "embedding_matrix = np.zeros((len(word_index) + 1, 50))\n",
    "for word, i in word_index.items():\n",
    "    embedding_vector = embeddings_index.get(word)\n",
    "    if embedding_vector is not None:\n",
    "        # words not found in embedding index will be all-zeros.\n",
    "        embedding_matrix[i] = embedding_vector"
   ]
  },
  {
   "cell_type": "code",
   "execution_count": 77,
   "metadata": {},
   "outputs": [],
   "source": [
    "def get_glove_embedding_layer(input_holder):\n",
    "    embedding = Embedding(len(word_index) + 1,\n",
    "                          50,\n",
    "                          weights=[embedding_matrix],\n",
    "                          input_length=MAX_ART_LEN,\n",
    "                          trainable=False)(input_holder)\n",
    "    return embedding"
   ]
  },
  {
   "cell_type": "markdown",
   "metadata": {},
   "source": [
    "### LSTM"
   ]
  },
  {
   "cell_type": "code",
   "execution_count": 78,
   "metadata": {},
   "outputs": [
    {
     "name": "stdout",
     "output_type": "stream",
     "text": [
      "_________________________________________________________________\n",
      "Layer (type)                 Output Shape              Param #   \n",
      "=================================================================\n",
      "input_3 (InputLayer)         (None, 800)               0         \n",
      "_________________________________________________________________\n",
      "embedding_2 (Embedding)      (None, 800, 50)           5305950   \n",
      "_________________________________________________________________\n",
      "lstm_2 (LSTM)                (None, 25)                7600      \n",
      "_________________________________________________________________\n",
      "dense_2 (Dense)              (None, 2)                 52        \n",
      "=================================================================\n",
      "Total params: 5,313,602\n",
      "Trainable params: 7,652\n",
      "Non-trainable params: 5,305,950\n",
      "_________________________________________________________________\n"
     ]
    }
   ],
   "source": [
    "lstm_input_holder = Input(shape=(X_train.shape[1], ))\n",
    "lstm_embed = get_glove_embedding_layer(lstm_input_holder)\n",
    "x = LSTM(EMBED_SIZE, dropout=0.2, recurrent_dropout=0.2)(lstm_embed)\n",
    "x = Dense(NUM_CLASSES, activation='sigmoid')(x)\n",
    "lstm_model = Model(inputs=lstm_input_holder,outputs=x)\n",
    "lstm_model.compile(loss='binary_crossentropy',\n",
    "                   optimizer=Adam(lr=0.0001, epsilon=0.0001, clipnorm=1.0),\n",
    "                   metrics=['accuracy'])\n",
    "lstm_model.summary()"
   ]
  },
  {
   "cell_type": "code",
   "execution_count": 79,
   "metadata": {},
   "outputs": [
    {
     "name": "stdout",
     "output_type": "stream",
     "text": [
      "Train on 10000 samples, validate on 2500 samples\n",
      "Epoch 1/25\n",
      "10000/10000 [==============================] - 134s 13ms/step - loss: 0.7047 - acc: 0.5103 - val_loss: 0.6860 - val_acc: 0.5526\n",
      "Epoch 2/25\n",
      "10000/10000 [==============================] - 133s 13ms/step - loss: 0.6921 - acc: 0.5274 - val_loss: 0.6809 - val_acc: 0.5912\n",
      "Epoch 3/25\n",
      "10000/10000 [==============================] - 133s 13ms/step - loss: 0.6871 - acc: 0.5454 - val_loss: 0.6747 - val_acc: 0.6208\n",
      "Epoch 4/25\n",
      "10000/10000 [==============================] - 133s 13ms/step - loss: 0.6826 - acc: 0.5606 - val_loss: 0.6654 - val_acc: 0.6418\n",
      "Epoch 5/25\n",
      "10000/10000 [==============================] - 133s 13ms/step - loss: 0.6764 - acc: 0.5777 - val_loss: 0.6534 - val_acc: 0.6596\n",
      "Epoch 6/25\n",
      "10000/10000 [==============================] - 133s 13ms/step - loss: 0.6703 - acc: 0.5901 - val_loss: 0.6404 - val_acc: 0.6688\n",
      "Epoch 7/25\n",
      "10000/10000 [==============================] - 133s 13ms/step - loss: 0.6642 - acc: 0.6031 - val_loss: 0.6310 - val_acc: 0.6702\n",
      "Epoch 8/25\n",
      "10000/10000 [==============================] - 133s 13ms/step - loss: 0.6603 - acc: 0.6092 - val_loss: 0.6261 - val_acc: 0.6670\n",
      "Epoch 9/25\n",
      "10000/10000 [==============================] - 133s 13ms/step - loss: 0.6552 - acc: 0.6194 - val_loss: 0.6205 - val_acc: 0.6678\n",
      "Epoch 10/25\n",
      "10000/10000 [==============================] - 133s 13ms/step - loss: 0.6494 - acc: 0.6199 - val_loss: 0.6132 - val_acc: 0.6698\n",
      "Epoch 11/25\n",
      "10000/10000 [==============================] - 133s 13ms/step - loss: 0.6462 - acc: 0.6272 - val_loss: 0.6062 - val_acc: 0.6802\n",
      "Epoch 12/25\n",
      "10000/10000 [==============================] - 133s 13ms/step - loss: 0.6409 - acc: 0.6337 - val_loss: 0.6009 - val_acc: 0.6864\n",
      "Epoch 13/25\n",
      "10000/10000 [==============================] - 133s 13ms/step - loss: 0.6413 - acc: 0.6362 - val_loss: 0.5961 - val_acc: 0.6886\n",
      "Epoch 14/25\n",
      "10000/10000 [==============================] - 133s 13ms/step - loss: 0.6335 - acc: 0.6447 - val_loss: 0.5886 - val_acc: 0.6980\n",
      "Epoch 15/25\n",
      "10000/10000 [==============================] - 132s 13ms/step - loss: 0.6314 - acc: 0.6436 - val_loss: 0.5813 - val_acc: 0.7134\n",
      "Epoch 16/25\n",
      "10000/10000 [==============================] - 133s 13ms/step - loss: 0.6325 - acc: 0.6442 - val_loss: 0.5810 - val_acc: 0.7068\n",
      "Epoch 17/25\n",
      "10000/10000 [==============================] - 133s 13ms/step - loss: 0.6262 - acc: 0.6557 - val_loss: 0.5697 - val_acc: 0.7166\n",
      "Epoch 18/25\n",
      "10000/10000 [==============================] - 133s 13ms/step - loss: 0.6187 - acc: 0.6621 - val_loss: 0.5655 - val_acc: 0.7172\n",
      "Epoch 19/25\n",
      "10000/10000 [==============================] - 132s 13ms/step - loss: 0.6202 - acc: 0.6604 - val_loss: 0.5583 - val_acc: 0.7250\n",
      "Epoch 20/25\n",
      "10000/10000 [==============================] - 133s 13ms/step - loss: 0.6167 - acc: 0.6662 - val_loss: 0.5526 - val_acc: 0.7356\n",
      "Epoch 21/25\n",
      "10000/10000 [==============================] - 132s 13ms/step - loss: 0.6150 - acc: 0.6676 - val_loss: 0.5530 - val_acc: 0.7252\n",
      "Epoch 22/25\n",
      "10000/10000 [==============================] - 132s 13ms/step - loss: 0.6118 - acc: 0.6672 - val_loss: 0.5507 - val_acc: 0.7304\n",
      "Epoch 23/25\n",
      "10000/10000 [==============================] - 133s 13ms/step - loss: 0.6080 - acc: 0.6757 - val_loss: 0.5460 - val_acc: 0.7400\n",
      "Epoch 24/25\n",
      "10000/10000 [==============================] - 133s 13ms/step - loss: 0.6061 - acc: 0.6802 - val_loss: 0.5413 - val_acc: 0.7372\n",
      "Epoch 25/25\n",
      "10000/10000 [==============================] - 133s 13ms/step - loss: 0.5998 - acc: 0.6855 - val_loss: 0.5386 - val_acc: 0.7356\n",
      "Train on 10000 samples, validate on 2500 samples\n",
      "Epoch 1/25\n",
      "10000/10000 [==============================] - 133s 13ms/step - loss: 0.6024 - acc: 0.6783 - val_loss: 0.5613 - val_acc: 0.7190\n",
      "Epoch 2/25\n",
      "10000/10000 [==============================] - 133s 13ms/step - loss: 0.6055 - acc: 0.6793 - val_loss: 0.5623 - val_acc: 0.7192\n",
      "Epoch 3/25\n",
      "10000/10000 [==============================] - 133s 13ms/step - loss: 0.6034 - acc: 0.6755 - val_loss: 0.5587 - val_acc: 0.7196\n",
      "Epoch 4/25\n",
      "10000/10000 [==============================] - 133s 13ms/step - loss: 0.5981 - acc: 0.6816 - val_loss: 0.5563 - val_acc: 0.7198\n",
      "Epoch 5/25\n",
      "10000/10000 [==============================] - 133s 13ms/step - loss: 0.5906 - acc: 0.6916 - val_loss: 0.5524 - val_acc: 0.7254\n",
      "Epoch 6/25\n",
      "10000/10000 [==============================] - 133s 13ms/step - loss: 0.5905 - acc: 0.6911 - val_loss: 0.5477 - val_acc: 0.7230\n",
      "Epoch 7/25\n",
      "10000/10000 [==============================] - 133s 13ms/step - loss: 0.5909 - acc: 0.6925 - val_loss: 0.5477 - val_acc: 0.7244\n",
      "Epoch 8/25\n",
      "10000/10000 [==============================] - 133s 13ms/step - loss: 0.5924 - acc: 0.6836 - val_loss: 0.5484 - val_acc: 0.7264\n",
      "Epoch 9/25\n",
      "10000/10000 [==============================] - 133s 13ms/step - loss: 0.5864 - acc: 0.6925 - val_loss: 0.5438 - val_acc: 0.7288\n",
      "Epoch 10/25\n",
      "10000/10000 [==============================] - 132s 13ms/step - loss: 0.5780 - acc: 0.7008 - val_loss: 0.5395 - val_acc: 0.7308\n",
      "Epoch 11/25\n",
      "10000/10000 [==============================] - 133s 13ms/step - loss: 0.5819 - acc: 0.6977 - val_loss: 0.5412 - val_acc: 0.7340\n",
      "Epoch 12/25\n",
      "10000/10000 [==============================] - 132s 13ms/step - loss: 0.5773 - acc: 0.7036 - val_loss: 0.5374 - val_acc: 0.7336\n",
      "Epoch 13/25\n",
      "10000/10000 [==============================] - 133s 13ms/step - loss: 0.5786 - acc: 0.6999 - val_loss: 0.5324 - val_acc: 0.7376\n",
      "Epoch 14/25\n",
      "10000/10000 [==============================] - 133s 13ms/step - loss: 0.5741 - acc: 0.7088 - val_loss: 0.5275 - val_acc: 0.7392\n",
      "Epoch 15/25\n",
      "10000/10000 [==============================] - 133s 13ms/step - loss: 0.5710 - acc: 0.7068 - val_loss: 0.5248 - val_acc: 0.7408\n",
      "Epoch 16/25\n",
      "10000/10000 [==============================] - 133s 13ms/step - loss: 0.5680 - acc: 0.7080 - val_loss: 0.5297 - val_acc: 0.7390\n",
      "Epoch 17/25\n",
      "10000/10000 [==============================] - 133s 13ms/step - loss: 0.5647 - acc: 0.7147 - val_loss: 0.5178 - val_acc: 0.7472\n",
      "Epoch 18/25\n",
      "10000/10000 [==============================] - 133s 13ms/step - loss: 0.5626 - acc: 0.7162 - val_loss: 0.5166 - val_acc: 0.7462\n",
      "Epoch 19/25\n",
      "10000/10000 [==============================] - 133s 13ms/step - loss: 0.5597 - acc: 0.7138 - val_loss: 0.5113 - val_acc: 0.7482\n",
      "Epoch 20/25\n",
      "10000/10000 [==============================] - 133s 13ms/step - loss: 0.5536 - acc: 0.7228 - val_loss: 0.5142 - val_acc: 0.7486\n",
      "Epoch 21/25\n",
      "10000/10000 [==============================] - 133s 13ms/step - loss: 0.5563 - acc: 0.7201 - val_loss: 0.5117 - val_acc: 0.7504\n",
      "Epoch 22/25\n",
      "10000/10000 [==============================] - 133s 13ms/step - loss: 0.5471 - acc: 0.7282 - val_loss: 0.5126 - val_acc: 0.7490\n",
      "Epoch 23/25\n",
      "10000/10000 [==============================] - 133s 13ms/step - loss: 0.5455 - acc: 0.7251 - val_loss: 0.5023 - val_acc: 0.7594\n",
      "Epoch 24/25\n",
      "10000/10000 [==============================] - 133s 13ms/step - loss: 0.5438 - acc: 0.7271 - val_loss: 0.5006 - val_acc: 0.7602\n",
      "Epoch 25/25\n",
      "10000/10000 [==============================] - 133s 13ms/step - loss: 0.5374 - acc: 0.7328 - val_loss: 0.4981 - val_acc: 0.7606\n",
      "Train on 10000 samples, validate on 2500 samples\n",
      "Epoch 1/25\n",
      "10000/10000 [==============================] - 133s 13ms/step - loss: 0.5350 - acc: 0.7355 - val_loss: 0.4483 - val_acc: 0.7980\n",
      "Epoch 2/25\n",
      "10000/10000 [==============================] - 133s 13ms/step - loss: 0.5334 - acc: 0.7395 - val_loss: 0.4425 - val_acc: 0.8034\n",
      "Epoch 3/25\n",
      "10000/10000 [==============================] - 133s 13ms/step - loss: 0.5313 - acc: 0.7416 - val_loss: 0.4400 - val_acc: 0.8052\n",
      "Epoch 4/25\n",
      "10000/10000 [==============================] - 133s 13ms/step - loss: 0.5291 - acc: 0.7427 - val_loss: 0.4367 - val_acc: 0.8054\n",
      "Epoch 5/25\n",
      "10000/10000 [==============================] - 133s 13ms/step - loss: 0.5259 - acc: 0.7460 - val_loss: 0.4340 - val_acc: 0.8082\n",
      "Epoch 6/25\n",
      "10000/10000 [==============================] - 133s 13ms/step - loss: 0.5188 - acc: 0.7498 - val_loss: 0.4289 - val_acc: 0.8102\n",
      "Epoch 7/25\n",
      "10000/10000 [==============================] - 133s 13ms/step - loss: 0.5168 - acc: 0.7496 - val_loss: 0.4260 - val_acc: 0.8106\n",
      "Epoch 8/25\n"
     ]
    },
    {
     "name": "stdout",
     "output_type": "stream",
     "text": [
      "10000/10000 [==============================] - 133s 13ms/step - loss: 0.5190 - acc: 0.7528 - val_loss: 0.4234 - val_acc: 0.8124\n",
      "Epoch 9/25\n",
      "10000/10000 [==============================] - 133s 13ms/step - loss: 0.5125 - acc: 0.7531 - val_loss: 0.4198 - val_acc: 0.8176\n",
      "Epoch 10/25\n",
      "10000/10000 [==============================] - 133s 13ms/step - loss: 0.5073 - acc: 0.7564 - val_loss: 0.4191 - val_acc: 0.8150\n",
      "Epoch 11/25\n",
      "10000/10000 [==============================] - 133s 13ms/step - loss: 0.5087 - acc: 0.7597 - val_loss: 0.4169 - val_acc: 0.8158\n",
      "Epoch 12/25\n",
      "10000/10000 [==============================] - 133s 13ms/step - loss: 0.4999 - acc: 0.7602 - val_loss: 0.4145 - val_acc: 0.8174\n",
      "Epoch 13/25\n",
      "10000/10000 [==============================] - 133s 13ms/step - loss: 0.5041 - acc: 0.7591 - val_loss: 0.4127 - val_acc: 0.8232\n",
      "Epoch 14/25\n",
      "10000/10000 [==============================] - 133s 13ms/step - loss: 0.5012 - acc: 0.7645 - val_loss: 0.4107 - val_acc: 0.8218\n",
      "Epoch 15/25\n",
      "10000/10000 [==============================] - 132s 13ms/step - loss: 0.4979 - acc: 0.7620 - val_loss: 0.4104 - val_acc: 0.8262\n",
      "Epoch 16/25\n",
      "10000/10000 [==============================] - 133s 13ms/step - loss: 0.4923 - acc: 0.7704 - val_loss: 0.4071 - val_acc: 0.8236\n",
      "Epoch 17/25\n",
      "10000/10000 [==============================] - 133s 13ms/step - loss: 0.4907 - acc: 0.7703 - val_loss: 0.4053 - val_acc: 0.8274\n",
      "Epoch 18/25\n",
      "10000/10000 [==============================] - 132s 13ms/step - loss: 0.4908 - acc: 0.7662 - val_loss: 0.4039 - val_acc: 0.8276\n",
      "Epoch 19/25\n",
      "10000/10000 [==============================] - 132s 13ms/step - loss: 0.4908 - acc: 0.7700 - val_loss: 0.4007 - val_acc: 0.8318\n",
      "Epoch 20/25\n",
      "10000/10000 [==============================] - 133s 13ms/step - loss: 0.4845 - acc: 0.7726 - val_loss: 0.3995 - val_acc: 0.8342\n",
      "Epoch 21/25\n",
      "10000/10000 [==============================] - 132s 13ms/step - loss: 0.4784 - acc: 0.7793 - val_loss: 0.3991 - val_acc: 0.8310\n",
      "Epoch 22/25\n",
      "10000/10000 [==============================] - 132s 13ms/step - loss: 0.4846 - acc: 0.7705 - val_loss: 0.3975 - val_acc: 0.8302\n",
      "Epoch 23/25\n",
      "10000/10000 [==============================] - 132s 13ms/step - loss: 0.4774 - acc: 0.7782 - val_loss: 0.3968 - val_acc: 0.8340\n",
      "Epoch 24/25\n",
      "10000/10000 [==============================] - 133s 13ms/step - loss: 0.4743 - acc: 0.7837 - val_loss: 0.3958 - val_acc: 0.8324\n",
      "Epoch 25/25\n",
      "10000/10000 [==============================] - 133s 13ms/step - loss: 0.4787 - acc: 0.7723 - val_loss: 0.3944 - val_acc: 0.8338\n",
      "Train on 10000 samples, validate on 2500 samples\n",
      "Epoch 1/25\n",
      "10000/10000 [==============================] - 133s 13ms/step - loss: 0.4777 - acc: 0.7752 - val_loss: 0.4189 - val_acc: 0.8164\n",
      "Epoch 2/25\n",
      "10000/10000 [==============================] - 133s 13ms/step - loss: 0.4755 - acc: 0.7790 - val_loss: 0.4149 - val_acc: 0.8152\n",
      "Epoch 3/25\n",
      "10000/10000 [==============================] - 132s 13ms/step - loss: 0.4708 - acc: 0.7806 - val_loss: 0.4143 - val_acc: 0.8140\n",
      "Epoch 4/25\n",
      "10000/10000 [==============================] - 132s 13ms/step - loss: 0.4708 - acc: 0.7811 - val_loss: 0.4123 - val_acc: 0.8158\n",
      "Epoch 5/25\n",
      "10000/10000 [==============================] - 133s 13ms/step - loss: 0.4664 - acc: 0.7820 - val_loss: 0.4130 - val_acc: 0.8172\n",
      "Epoch 6/25\n",
      "10000/10000 [==============================] - 133s 13ms/step - loss: 0.4662 - acc: 0.7855 - val_loss: 0.4106 - val_acc: 0.8152\n",
      "Epoch 7/25\n",
      "10000/10000 [==============================] - 133s 13ms/step - loss: 0.4695 - acc: 0.7825 - val_loss: 0.4115 - val_acc: 0.8178\n",
      "Epoch 8/25\n",
      "10000/10000 [==============================] - 133s 13ms/step - loss: 0.4633 - acc: 0.7881 - val_loss: 0.4090 - val_acc: 0.8174\n",
      "Epoch 9/25\n",
      "10000/10000 [==============================] - 133s 13ms/step - loss: 0.4578 - acc: 0.7885 - val_loss: 0.4097 - val_acc: 0.8174\n",
      "Epoch 10/25\n",
      "10000/10000 [==============================] - 133s 13ms/step - loss: 0.4564 - acc: 0.7910 - val_loss: 0.4121 - val_acc: 0.8178\n",
      "Epoch 11/25\n",
      "10000/10000 [==============================] - 133s 13ms/step - loss: 0.4567 - acc: 0.7905 - val_loss: 0.4098 - val_acc: 0.8190\n",
      "Epoch 12/25\n",
      "10000/10000 [==============================] - 133s 13ms/step - loss: 0.4487 - acc: 0.7975 - val_loss: 0.4042 - val_acc: 0.8216\n",
      "Epoch 13/25\n",
      "10000/10000 [==============================] - 133s 13ms/step - loss: 0.4546 - acc: 0.7937 - val_loss: 0.4037 - val_acc: 0.8222\n",
      "Epoch 14/25\n",
      "10000/10000 [==============================] - 133s 13ms/step - loss: 0.4558 - acc: 0.7912 - val_loss: 0.4042 - val_acc: 0.8218\n",
      "Epoch 15/25\n",
      "10000/10000 [==============================] - 133s 13ms/step - loss: 0.4514 - acc: 0.7935 - val_loss: 0.4021 - val_acc: 0.8220\n",
      "Epoch 16/25\n",
      "10000/10000 [==============================] - 133s 13ms/step - loss: 0.4545 - acc: 0.7881 - val_loss: 0.4004 - val_acc: 0.8250\n",
      "Epoch 17/25\n",
      "10000/10000 [==============================] - 133s 13ms/step - loss: 0.4481 - acc: 0.7957 - val_loss: 0.4001 - val_acc: 0.8214\n",
      "Epoch 18/25\n",
      "10000/10000 [==============================] - 133s 13ms/step - loss: 0.4438 - acc: 0.7980 - val_loss: 0.3975 - val_acc: 0.8236\n",
      "Epoch 19/25\n",
      "10000/10000 [==============================] - 133s 13ms/step - loss: 0.4442 - acc: 0.7984 - val_loss: 0.3994 - val_acc: 0.8238\n",
      "Epoch 20/25\n",
      "10000/10000 [==============================] - 133s 13ms/step - loss: 0.4431 - acc: 0.7985 - val_loss: 0.3970 - val_acc: 0.8264\n",
      "Epoch 21/25\n",
      "10000/10000 [==============================] - 133s 13ms/step - loss: 0.4427 - acc: 0.7976 - val_loss: 0.3984 - val_acc: 0.8252\n",
      "Epoch 22/25\n",
      "10000/10000 [==============================] - 133s 13ms/step - loss: 0.4399 - acc: 0.7989 - val_loss: 0.3950 - val_acc: 0.8270\n",
      "Epoch 23/25\n",
      "10000/10000 [==============================] - 133s 13ms/step - loss: 0.4401 - acc: 0.8008 - val_loss: 0.4002 - val_acc: 0.8212\n",
      "Epoch 24/25\n",
      "10000/10000 [==============================] - 133s 13ms/step - loss: 0.4346 - acc: 0.8055 - val_loss: 0.3956 - val_acc: 0.8260\n",
      "Epoch 25/25\n",
      "10000/10000 [==============================] - 133s 13ms/step - loss: 0.4353 - acc: 0.8041 - val_loss: 0.3938 - val_acc: 0.8278\n",
      "Train on 10000 samples, validate on 2500 samples\n",
      "Epoch 1/25\n",
      "10000/10000 [==============================] - 133s 13ms/step - loss: 0.4415 - acc: 0.7972 - val_loss: 0.3921 - val_acc: 0.8250\n",
      "Epoch 2/25\n",
      "10000/10000 [==============================] - 133s 13ms/step - loss: 0.4370 - acc: 0.7999 - val_loss: 0.3913 - val_acc: 0.8246\n",
      "Epoch 3/25\n",
      "10000/10000 [==============================] - 133s 13ms/step - loss: 0.4292 - acc: 0.8061 - val_loss: 0.3916 - val_acc: 0.8268\n",
      "Epoch 4/25\n",
      "10000/10000 [==============================] - 132s 13ms/step - loss: 0.4341 - acc: 0.7994 - val_loss: 0.3916 - val_acc: 0.8270\n",
      "Epoch 5/25\n",
      "10000/10000 [==============================] - 133s 13ms/step - loss: 0.4277 - acc: 0.8059 - val_loss: 0.3897 - val_acc: 0.8250\n",
      "Epoch 6/25\n",
      "10000/10000 [==============================] - 133s 13ms/step - loss: 0.4312 - acc: 0.8014 - val_loss: 0.3875 - val_acc: 0.8258\n",
      "Epoch 7/25\n",
      "10000/10000 [==============================] - 133s 13ms/step - loss: 0.4346 - acc: 0.7989 - val_loss: 0.3871 - val_acc: 0.8276\n",
      "Epoch 8/25\n",
      "10000/10000 [==============================] - 133s 13ms/step - loss: 0.4317 - acc: 0.8034 - val_loss: 0.3855 - val_acc: 0.8270\n",
      "Epoch 9/25\n",
      "10000/10000 [==============================] - 133s 13ms/step - loss: 0.4297 - acc: 0.8042 - val_loss: 0.3834 - val_acc: 0.8272\n",
      "Epoch 10/25\n",
      "10000/10000 [==============================] - 133s 13ms/step - loss: 0.4220 - acc: 0.8105 - val_loss: 0.3840 - val_acc: 0.8284\n",
      "Epoch 11/25\n",
      "10000/10000 [==============================] - 133s 13ms/step - loss: 0.4233 - acc: 0.8069 - val_loss: 0.3863 - val_acc: 0.8254\n",
      "Epoch 12/25\n",
      "10000/10000 [==============================] - 133s 13ms/step - loss: 0.4213 - acc: 0.8071 - val_loss: 0.3811 - val_acc: 0.8282\n",
      "Epoch 13/25\n",
      "10000/10000 [==============================] - 133s 13ms/step - loss: 0.4244 - acc: 0.8060 - val_loss: 0.3808 - val_acc: 0.8270\n",
      "Epoch 14/25\n",
      "10000/10000 [==============================] - 133s 13ms/step - loss: 0.4215 - acc: 0.8074 - val_loss: 0.3796 - val_acc: 0.8286\n",
      "Epoch 15/25\n",
      "10000/10000 [==============================] - 133s 13ms/step - loss: 0.4185 - acc: 0.8116 - val_loss: 0.3805 - val_acc: 0.8302\n",
      "Epoch 16/25\n"
     ]
    },
    {
     "name": "stdout",
     "output_type": "stream",
     "text": [
      "10000/10000 [==============================] - 133s 13ms/step - loss: 0.4203 - acc: 0.8123 - val_loss: 0.3797 - val_acc: 0.8324\n",
      "Epoch 17/25\n",
      "10000/10000 [==============================] - 133s 13ms/step - loss: 0.4151 - acc: 0.8108 - val_loss: 0.3775 - val_acc: 0.8298\n",
      "Epoch 18/25\n",
      "10000/10000 [==============================] - 133s 13ms/step - loss: 0.4195 - acc: 0.8086 - val_loss: 0.3765 - val_acc: 0.8336\n",
      "Epoch 19/25\n",
      "10000/10000 [==============================] - 133s 13ms/step - loss: 0.4170 - acc: 0.8094 - val_loss: 0.3748 - val_acc: 0.8308\n",
      "Epoch 20/25\n",
      "10000/10000 [==============================] - 133s 13ms/step - loss: 0.4144 - acc: 0.8123 - val_loss: 0.3742 - val_acc: 0.8346\n",
      "Epoch 21/25\n",
      "10000/10000 [==============================] - 133s 13ms/step - loss: 0.4140 - acc: 0.8134 - val_loss: 0.3731 - val_acc: 0.8348\n",
      "Epoch 22/25\n",
      "10000/10000 [==============================] - 132s 13ms/step - loss: 0.4148 - acc: 0.8104 - val_loss: 0.3718 - val_acc: 0.8348\n",
      "Epoch 23/25\n",
      "10000/10000 [==============================] - 133s 13ms/step - loss: 0.4107 - acc: 0.8153 - val_loss: 0.3724 - val_acc: 0.8360\n",
      "Epoch 24/25\n",
      "10000/10000 [==============================] - 133s 13ms/step - loss: 0.4077 - acc: 0.8190 - val_loss: 0.3723 - val_acc: 0.8322\n",
      "Epoch 25/25\n",
      "10000/10000 [==============================] - 132s 13ms/step - loss: 0.4106 - acc: 0.8144 - val_loss: 0.3696 - val_acc: 0.8372\n"
     ]
    }
   ],
   "source": [
    "lstm_histories = run_model(lstm_model)"
   ]
  },
  {
   "cell_type": "code",
   "execution_count": 123,
   "metadata": {},
   "outputs": [
    {
     "data": {
      "image/png": "[encoded data removed]",
      "text/plain": [
       "<Figure size 864x432 with 2 Axes>"
      ]
     },
     "metadata": {
      "needs_background": "light"
     },
     "output_type": "display_data"
    }
   ],
   "source": [
    "plot_accuracy(lstm_histories)"
   ]
  },
  {
   "cell_type": "markdown",
   "metadata": {},
   "source": [
    "### GRU"
   ]
  },
  {
   "cell_type": "code",
   "execution_count": 81,
   "metadata": {},
   "outputs": [
    {
     "name": "stdout",
     "output_type": "stream",
     "text": [
      "_________________________________________________________________\n",
      "Layer (type)                 Output Shape              Param #   \n",
      "=================================================================\n",
      "input_4 (InputLayer)         (None, 800)               0         \n",
      "_________________________________________________________________\n",
      "embedding_3 (Embedding)      (None, 800, 50)           5305950   \n",
      "_________________________________________________________________\n",
      "gru (GRU)                    (None, 25)                5700      \n",
      "_________________________________________________________________\n",
      "dense_3 (Dense)              (None, 2)                 52        \n",
      "=================================================================\n",
      "Total params: 5,311,702\n",
      "Trainable params: 5,752\n",
      "Non-trainable params: 5,305,950\n",
      "_________________________________________________________________\n"
     ]
    }
   ],
   "source": [
    "gru_input_holder = Input(shape=(X_train.shape[1], ))\n",
    "gru_embed = get_glove_embedding_layer(gru_input_holder)\n",
    "x = GRU(25, dropout=0.2, recurrent_dropout=0.2)(gru_embed)\n",
    "x = Dense(NUM_CLASSES, activation='sigmoid', kernel_regularizer=regularizers.l1_l2(0.00001, 0.0001))(x)\n",
    "gru_model = Model(inputs=gru_input_holder,outputs=x)\n",
    "gru_model.compile(loss='binary_crossentropy', \n",
    "                  optimizer='rmsprop', \n",
    "                  metrics=['accuracy'])\n",
    "gru_model.summary()"
   ]
  },
  {
   "cell_type": "code",
   "execution_count": 82,
   "metadata": {},
   "outputs": [
    {
     "name": "stdout",
     "output_type": "stream",
     "text": [
      "Train on 10000 samples, validate on 2500 samples\n",
      "Epoch 1/25\n",
      "10000/10000 [==============================] - 106s 11ms/step - loss: 0.6877 - acc: 0.5549 - val_loss: 0.6686 - val_acc: 0.5900\n",
      "Epoch 2/25\n",
      "10000/10000 [==============================] - 104s 10ms/step - loss: 0.6402 - acc: 0.6332 - val_loss: 0.6000 - val_acc: 0.6848\n",
      "Epoch 3/25\n",
      "10000/10000 [==============================] - 104s 10ms/step - loss: 0.5639 - acc: 0.7166 - val_loss: 0.4799 - val_acc: 0.7800\n",
      "Epoch 4/25\n",
      "10000/10000 [==============================] - 104s 10ms/step - loss: 0.5223 - acc: 0.7500 - val_loss: 0.4619 - val_acc: 0.7848\n",
      "Epoch 5/25\n",
      "10000/10000 [==============================] - 104s 10ms/step - loss: 0.4905 - acc: 0.7657 - val_loss: 0.4128 - val_acc: 0.8178\n",
      "Epoch 6/25\n",
      "10000/10000 [==============================] - 104s 10ms/step - loss: 0.4706 - acc: 0.7833 - val_loss: 0.4002 - val_acc: 0.8254\n",
      "Epoch 7/25\n",
      "10000/10000 [==============================] - 104s 10ms/step - loss: 0.4561 - acc: 0.7907 - val_loss: 0.3952 - val_acc: 0.8248\n",
      "Epoch 8/25\n",
      "10000/10000 [==============================] - 104s 10ms/step - loss: 0.4406 - acc: 0.7962 - val_loss: 0.3898 - val_acc: 0.8260\n",
      "Epoch 9/25\n",
      "10000/10000 [==============================] - 104s 10ms/step - loss: 0.4238 - acc: 0.8028 - val_loss: 0.3751 - val_acc: 0.8342\n",
      "Epoch 10/25\n",
      "10000/10000 [==============================] - 104s 10ms/step - loss: 0.4172 - acc: 0.8115 - val_loss: 0.3730 - val_acc: 0.8346\n",
      "Epoch 11/25\n",
      "10000/10000 [==============================] - 104s 10ms/step - loss: 0.4118 - acc: 0.8141 - val_loss: 0.3668 - val_acc: 0.8414\n",
      "Epoch 12/25\n",
      "10000/10000 [==============================] - 104s 10ms/step - loss: 0.4033 - acc: 0.8173 - val_loss: 0.3633 - val_acc: 0.8412\n",
      "Epoch 13/25\n",
      "10000/10000 [==============================] - 104s 10ms/step - loss: 0.3936 - acc: 0.8227 - val_loss: 0.3559 - val_acc: 0.8462\n",
      "Epoch 14/25\n",
      "10000/10000 [==============================] - 104s 10ms/step - loss: 0.3925 - acc: 0.8241 - val_loss: 0.3542 - val_acc: 0.8450\n",
      "Epoch 15/25\n",
      "10000/10000 [==============================] - 104s 10ms/step - loss: 0.3850 - acc: 0.8276 - val_loss: 0.3501 - val_acc: 0.8426\n",
      "Epoch 16/25\n",
      "10000/10000 [==============================] - 103s 10ms/step - loss: 0.3805 - acc: 0.8301 - val_loss: 0.3482 - val_acc: 0.8444\n",
      "Epoch 17/25\n",
      "10000/10000 [==============================] - 104s 10ms/step - loss: 0.3771 - acc: 0.8314 - val_loss: 0.3490 - val_acc: 0.8406\n",
      "Epoch 18/25\n",
      "10000/10000 [==============================] - 104s 10ms/step - loss: 0.3770 - acc: 0.8337 - val_loss: 0.3470 - val_acc: 0.8484\n",
      "Epoch 19/25\n",
      "10000/10000 [==============================] - 104s 10ms/step - loss: 0.3694 - acc: 0.8391 - val_loss: 0.3540 - val_acc: 0.8428\n",
      "Epoch 20/25\n",
      "10000/10000 [==============================] - 103s 10ms/step - loss: 0.3627 - acc: 0.8382 - val_loss: 0.3394 - val_acc: 0.8518\n",
      "Epoch 21/25\n",
      "10000/10000 [==============================] - 104s 10ms/step - loss: 0.3666 - acc: 0.8390 - val_loss: 0.3435 - val_acc: 0.8494\n",
      "Epoch 22/25\n",
      "10000/10000 [==============================] - 104s 10ms/step - loss: 0.3587 - acc: 0.8440 - val_loss: 0.3372 - val_acc: 0.8508\n",
      "Epoch 23/25\n",
      "10000/10000 [==============================] - 104s 10ms/step - loss: 0.3600 - acc: 0.8440 - val_loss: 0.3340 - val_acc: 0.8536\n",
      "Epoch 24/25\n",
      "10000/10000 [==============================] - 104s 10ms/step - loss: 0.3527 - acc: 0.8436 - val_loss: 0.3550 - val_acc: 0.8482\n",
      "Epoch 25/25\n",
      "10000/10000 [==============================] - 104s 10ms/step - loss: 0.3495 - acc: 0.8451 - val_loss: 0.3303 - val_acc: 0.8562\n",
      "Train on 10000 samples, validate on 2500 samples\n",
      "Epoch 1/25\n",
      "10000/10000 [==============================] - 104s 10ms/step - loss: 0.3664 - acc: 0.8353 - val_loss: 0.3323 - val_acc: 0.8596\n",
      "Epoch 2/25\n",
      "10000/10000 [==============================] - 104s 10ms/step - loss: 0.3644 - acc: 0.8364 - val_loss: 0.3383 - val_acc: 0.8570\n",
      "Epoch 3/25\n",
      "10000/10000 [==============================] - 104s 10ms/step - loss: 0.3612 - acc: 0.8373 - val_loss: 0.3286 - val_acc: 0.8610\n",
      "Epoch 4/25\n",
      "10000/10000 [==============================] - 104s 10ms/step - loss: 0.3550 - acc: 0.8460 - val_loss: 0.3358 - val_acc: 0.8572\n",
      "Epoch 5/25\n",
      "10000/10000 [==============================] - 104s 10ms/step - loss: 0.3588 - acc: 0.8443 - val_loss: 0.3432 - val_acc: 0.8578\n",
      "Epoch 6/25\n",
      "10000/10000 [==============================] - 104s 10ms/step - loss: 0.3506 - acc: 0.8478 - val_loss: 0.3280 - val_acc: 0.8598\n",
      "Epoch 7/25\n",
      "10000/10000 [==============================] - 103s 10ms/step - loss: 0.3451 - acc: 0.8474 - val_loss: 0.3775 - val_acc: 0.8412\n",
      "Epoch 8/25\n",
      "10000/10000 [==============================] - 104s 10ms/step - loss: 0.3414 - acc: 0.8516 - val_loss: 0.3245 - val_acc: 0.8632\n",
      "Epoch 9/25\n",
      "10000/10000 [==============================] - 104s 10ms/step - loss: 0.3394 - acc: 0.8510 - val_loss: 0.3263 - val_acc: 0.8630\n",
      "Epoch 10/25\n",
      "10000/10000 [==============================] - 104s 10ms/step - loss: 0.3356 - acc: 0.8559 - val_loss: 0.3261 - val_acc: 0.8654\n",
      "Epoch 11/25\n",
      "10000/10000 [==============================] - 104s 10ms/step - loss: 0.3381 - acc: 0.8518 - val_loss: 0.3192 - val_acc: 0.8660\n",
      "Epoch 12/25\n",
      "10000/10000 [==============================] - 104s 10ms/step - loss: 0.3358 - acc: 0.8525 - val_loss: 0.3312 - val_acc: 0.8604\n",
      "Epoch 13/25\n",
      "10000/10000 [==============================] - 104s 10ms/step - loss: 0.3247 - acc: 0.8601 - val_loss: 0.3200 - val_acc: 0.8684\n",
      "Epoch 14/25\n",
      "10000/10000 [==============================] - 104s 10ms/step - loss: 0.3274 - acc: 0.8580 - val_loss: 0.3160 - val_acc: 0.8680\n",
      "Epoch 15/25\n",
      "10000/10000 [==============================] - 104s 10ms/step - loss: 0.3257 - acc: 0.8563 - val_loss: 0.3239 - val_acc: 0.8670\n",
      "Epoch 16/25\n",
      "10000/10000 [==============================] - 104s 10ms/step - loss: 0.3231 - acc: 0.8609 - val_loss: 0.3208 - val_acc: 0.8700\n",
      "Epoch 17/25\n",
      "10000/10000 [==============================] - 104s 10ms/step - loss: 0.3266 - acc: 0.8597 - val_loss: 0.3152 - val_acc: 0.8672\n",
      "Epoch 18/25\n",
      "10000/10000 [==============================] - 104s 10ms/step - loss: 0.3214 - acc: 0.8631 - val_loss: 0.3148 - val_acc: 0.8714\n",
      "Epoch 19/25\n",
      "10000/10000 [==============================] - 104s 10ms/step - loss: 0.3238 - acc: 0.8569 - val_loss: 0.3151 - val_acc: 0.8722\n",
      "Epoch 20/25\n",
      "10000/10000 [==============================] - 104s 10ms/step - loss: 0.3178 - acc: 0.8623 - val_loss: 0.3128 - val_acc: 0.8746\n",
      "Epoch 21/25\n",
      "10000/10000 [==============================] - 104s 10ms/step - loss: 0.3210 - acc: 0.8588 - val_loss: 0.3201 - val_acc: 0.8672\n",
      "Epoch 22/25\n",
      "10000/10000 [==============================] - 104s 10ms/step - loss: 0.3193 - acc: 0.8642 - val_loss: 0.3127 - val_acc: 0.8734\n",
      "Epoch 23/25\n",
      "10000/10000 [==============================] - 103s 10ms/step - loss: 0.3167 - acc: 0.8603 - val_loss: 0.3141 - val_acc: 0.8720\n",
      "Epoch 24/25\n",
      "10000/10000 [==============================] - 104s 10ms/step - loss: 0.3124 - acc: 0.8666 - val_loss: 0.3134 - val_acc: 0.8756\n",
      "Epoch 25/25\n",
      "10000/10000 [==============================] - 104s 10ms/step - loss: 0.3153 - acc: 0.8645 - val_loss: 0.3229 - val_acc: 0.8626\n",
      "Train on 10000 samples, validate on 2500 samples\n",
      "Epoch 1/25\n",
      "10000/10000 [==============================] - 104s 10ms/step - loss: 0.3424 - acc: 0.8540 - val_loss: 0.3067 - val_acc: 0.8686\n",
      "Epoch 2/25\n",
      "10000/10000 [==============================] - 104s 10ms/step - loss: 0.3366 - acc: 0.8567 - val_loss: 0.3020 - val_acc: 0.8720\n",
      "Epoch 3/25\n",
      "10000/10000 [==============================] - 104s 10ms/step - loss: 0.3363 - acc: 0.8558 - val_loss: 0.3067 - val_acc: 0.8676\n",
      "Epoch 4/25\n",
      "10000/10000 [==============================] - 103s 10ms/step - loss: 0.3309 - acc: 0.8553 - val_loss: 0.3066 - val_acc: 0.8684\n",
      "Epoch 5/25\n",
      "10000/10000 [==============================] - 103s 10ms/step - loss: 0.3265 - acc: 0.8602 - val_loss: 0.3022 - val_acc: 0.8732\n",
      "Epoch 6/25\n",
      "10000/10000 [==============================] - 104s 10ms/step - loss: 0.3256 - acc: 0.8618 - val_loss: 0.3044 - val_acc: 0.8716\n",
      "Epoch 7/25\n",
      "10000/10000 [==============================] - 103s 10ms/step - loss: 0.3213 - acc: 0.8624 - val_loss: 0.3159 - val_acc: 0.8644\n",
      "Epoch 8/25\n"
     ]
    },
    {
     "name": "stdout",
     "output_type": "stream",
     "text": [
      "10000/10000 [==============================] - 103s 10ms/step - loss: 0.3237 - acc: 0.8606 - val_loss: 0.3014 - val_acc: 0.8720\n",
      "Epoch 9/25\n",
      "10000/10000 [==============================] - 104s 10ms/step - loss: 0.3212 - acc: 0.8598 - val_loss: 0.3079 - val_acc: 0.8678\n",
      "Epoch 10/25\n",
      "10000/10000 [==============================] - 104s 10ms/step - loss: 0.3164 - acc: 0.8683 - val_loss: 0.3054 - val_acc: 0.8696\n",
      "Epoch 11/25\n",
      "10000/10000 [==============================] - 104s 10ms/step - loss: 0.3170 - acc: 0.8649 - val_loss: 0.3004 - val_acc: 0.8708\n",
      "Epoch 12/25\n",
      "10000/10000 [==============================] - 104s 10ms/step - loss: 0.3184 - acc: 0.8607 - val_loss: 0.2999 - val_acc: 0.8726\n",
      "Epoch 13/25\n",
      "10000/10000 [==============================] - 104s 10ms/step - loss: 0.3180 - acc: 0.8632 - val_loss: 0.3011 - val_acc: 0.8686\n",
      "Epoch 14/25\n",
      "10000/10000 [==============================] - 104s 10ms/step - loss: 0.3131 - acc: 0.8659 - val_loss: 0.3028 - val_acc: 0.8680\n",
      "Epoch 15/25\n",
      "10000/10000 [==============================] - 104s 10ms/step - loss: 0.3098 - acc: 0.8676 - val_loss: 0.3000 - val_acc: 0.8724\n",
      "Epoch 16/25\n",
      "10000/10000 [==============================] - 104s 10ms/step - loss: 0.3127 - acc: 0.8652 - val_loss: 0.3107 - val_acc: 0.8694\n",
      "Epoch 17/25\n",
      "10000/10000 [==============================] - 104s 10ms/step - loss: 0.3072 - acc: 0.8690 - val_loss: 0.3064 - val_acc: 0.8704\n",
      "Epoch 18/25\n",
      "10000/10000 [==============================] - 104s 10ms/step - loss: 0.3071 - acc: 0.8723 - val_loss: 0.3037 - val_acc: 0.8718\n",
      "Epoch 19/25\n",
      "10000/10000 [==============================] - 104s 10ms/step - loss: 0.3042 - acc: 0.8687 - val_loss: 0.3093 - val_acc: 0.8704\n",
      "Epoch 20/25\n",
      "10000/10000 [==============================] - 104s 10ms/step - loss: 0.3116 - acc: 0.8664 - val_loss: 0.3000 - val_acc: 0.8740\n",
      "Epoch 21/25\n",
      "10000/10000 [==============================] - 104s 10ms/step - loss: 0.3017 - acc: 0.8710 - val_loss: 0.3135 - val_acc: 0.8706\n",
      "Epoch 22/25\n",
      "10000/10000 [==============================] - 103s 10ms/step - loss: 0.2984 - acc: 0.8700 - val_loss: 0.3030 - val_acc: 0.8724\n",
      "Epoch 23/25\n",
      "10000/10000 [==============================] - 104s 10ms/step - loss: 0.3006 - acc: 0.8696 - val_loss: 0.3050 - val_acc: 0.8744\n",
      "Epoch 24/25\n",
      "10000/10000 [==============================] - 104s 10ms/step - loss: 0.2983 - acc: 0.8763 - val_loss: 0.3064 - val_acc: 0.8706\n",
      "Epoch 25/25\n",
      "10000/10000 [==============================] - 104s 10ms/step - loss: 0.2999 - acc: 0.8726 - val_loss: 0.3070 - val_acc: 0.8736\n",
      "Train on 10000 samples, validate on 2500 samples\n",
      "Epoch 1/25\n",
      "10000/10000 [==============================] - 104s 10ms/step - loss: 0.3206 - acc: 0.8638 - val_loss: 0.2931 - val_acc: 0.8760\n",
      "Epoch 2/25\n",
      "10000/10000 [==============================] - 104s 10ms/step - loss: 0.3186 - acc: 0.8662 - val_loss: 0.3124 - val_acc: 0.8682\n",
      "Epoch 3/25\n",
      "10000/10000 [==============================] - 104s 10ms/step - loss: 0.3204 - acc: 0.8589 - val_loss: 0.2937 - val_acc: 0.8746\n",
      "Epoch 4/25\n",
      "10000/10000 [==============================] - 104s 10ms/step - loss: 0.3118 - acc: 0.8678 - val_loss: 0.3031 - val_acc: 0.8702\n",
      "Epoch 5/25\n",
      "10000/10000 [==============================] - 104s 10ms/step - loss: 0.3137 - acc: 0.8685 - val_loss: 0.3193 - val_acc: 0.8642\n",
      "Epoch 6/25\n",
      "10000/10000 [==============================] - 104s 10ms/step - loss: 0.3115 - acc: 0.8681 - val_loss: 0.2942 - val_acc: 0.8720\n",
      "Epoch 7/25\n",
      "10000/10000 [==============================] - 103s 10ms/step - loss: 0.3085 - acc: 0.8686 - val_loss: 0.2985 - val_acc: 0.8740\n",
      "Epoch 8/25\n",
      "10000/10000 [==============================] - 104s 10ms/step - loss: 0.3016 - acc: 0.8737 - val_loss: 0.2972 - val_acc: 0.8734\n",
      "Epoch 9/25\n",
      "10000/10000 [==============================] - 104s 10ms/step - loss: 0.3045 - acc: 0.8725 - val_loss: 0.3049 - val_acc: 0.8698\n",
      "Epoch 10/25\n",
      "10000/10000 [==============================] - 104s 10ms/step - loss: 0.2985 - acc: 0.8719 - val_loss: 0.2962 - val_acc: 0.8738\n",
      "Epoch 11/25\n",
      "10000/10000 [==============================] - 104s 10ms/step - loss: 0.2960 - acc: 0.8748 - val_loss: 0.2988 - val_acc: 0.8732\n",
      "Epoch 12/25\n",
      "10000/10000 [==============================] - 104s 10ms/step - loss: 0.3011 - acc: 0.8717 - val_loss: 0.2963 - val_acc: 0.8724\n",
      "Epoch 13/25\n",
      "10000/10000 [==============================] - 104s 10ms/step - loss: 0.2954 - acc: 0.8763 - val_loss: 0.2973 - val_acc: 0.8726\n",
      "Epoch 14/25\n",
      "10000/10000 [==============================] - 104s 10ms/step - loss: 0.2970 - acc: 0.8720 - val_loss: 0.3005 - val_acc: 0.8738\n",
      "Epoch 15/25\n",
      "10000/10000 [==============================] - 104s 10ms/step - loss: 0.2958 - acc: 0.8758 - val_loss: 0.2996 - val_acc: 0.8746\n",
      "Epoch 16/25\n",
      "10000/10000 [==============================] - 104s 10ms/step - loss: 0.2930 - acc: 0.8764 - val_loss: 0.2990 - val_acc: 0.8740\n",
      "Epoch 17/25\n",
      "10000/10000 [==============================] - 104s 10ms/step - loss: 0.2929 - acc: 0.8762 - val_loss: 0.3066 - val_acc: 0.8722\n",
      "Epoch 18/25\n",
      "10000/10000 [==============================] - 104s 10ms/step - loss: 0.2949 - acc: 0.8722 - val_loss: 0.3030 - val_acc: 0.8732\n",
      "Epoch 19/25\n",
      "10000/10000 [==============================] - 104s 10ms/step - loss: 0.2863 - acc: 0.8795 - val_loss: 0.2977 - val_acc: 0.8724\n",
      "Epoch 20/25\n",
      "10000/10000 [==============================] - 103s 10ms/step - loss: 0.2863 - acc: 0.8790 - val_loss: 0.3105 - val_acc: 0.8706\n",
      "Epoch 21/25\n",
      "10000/10000 [==============================] - 104s 10ms/step - loss: 0.2909 - acc: 0.8760 - val_loss: 0.3074 - val_acc: 0.8730\n",
      "Epoch 22/25\n",
      "10000/10000 [==============================] - 104s 10ms/step - loss: 0.2886 - acc: 0.8788 - val_loss: 0.2977 - val_acc: 0.8744\n",
      "Epoch 23/25\n",
      "10000/10000 [==============================] - 104s 10ms/step - loss: 0.2898 - acc: 0.8754 - val_loss: 0.3010 - val_acc: 0.8752\n",
      "Epoch 24/25\n",
      "10000/10000 [==============================] - 104s 10ms/step - loss: 0.2875 - acc: 0.8831 - val_loss: 0.3047 - val_acc: 0.8748\n",
      "Epoch 25/25\n",
      "10000/10000 [==============================] - 103s 10ms/step - loss: 0.2856 - acc: 0.8854 - val_loss: 0.3072 - val_acc: 0.8754\n",
      "Train on 10000 samples, validate on 2500 samples\n",
      "Epoch 1/25\n",
      "10000/10000 [==============================] - 104s 10ms/step - loss: 0.3181 - acc: 0.8661 - val_loss: 0.2729 - val_acc: 0.8926\n",
      "Epoch 2/25\n",
      "10000/10000 [==============================] - 104s 10ms/step - loss: 0.3140 - acc: 0.8687 - val_loss: 0.2795 - val_acc: 0.8884\n",
      "Epoch 3/25\n",
      "10000/10000 [==============================] - 104s 10ms/step - loss: 0.3085 - acc: 0.8675 - val_loss: 0.2713 - val_acc: 0.8922\n",
      "Epoch 4/25\n",
      "10000/10000 [==============================] - 104s 10ms/step - loss: 0.3041 - acc: 0.8740 - val_loss: 0.2677 - val_acc: 0.8952\n",
      "Epoch 5/25\n",
      "10000/10000 [==============================] - 104s 10ms/step - loss: 0.3059 - acc: 0.8703 - val_loss: 0.2880 - val_acc: 0.8852\n",
      "Epoch 6/25\n",
      "10000/10000 [==============================] - 104s 10ms/step - loss: 0.3036 - acc: 0.8744 - val_loss: 0.2763 - val_acc: 0.8854\n",
      "Epoch 7/25\n",
      "10000/10000 [==============================] - 104s 10ms/step - loss: 0.3039 - acc: 0.8737 - val_loss: 0.2846 - val_acc: 0.8842\n",
      "Epoch 8/25\n",
      "10000/10000 [==============================] - 104s 10ms/step - loss: 0.3028 - acc: 0.8710 - val_loss: 0.2683 - val_acc: 0.8910\n",
      "Epoch 9/25\n",
      "10000/10000 [==============================] - 104s 10ms/step - loss: 0.2990 - acc: 0.8756 - val_loss: 0.2754 - val_acc: 0.8876\n",
      "Epoch 10/25\n",
      "10000/10000 [==============================] - 104s 10ms/step - loss: 0.2983 - acc: 0.8766 - val_loss: 0.2747 - val_acc: 0.8874\n",
      "Epoch 11/25\n",
      "10000/10000 [==============================] - 103s 10ms/step - loss: 0.2962 - acc: 0.8771 - val_loss: 0.2777 - val_acc: 0.8860\n",
      "Epoch 12/25\n",
      "10000/10000 [==============================] - 104s 10ms/step - loss: 0.2926 - acc: 0.8788 - val_loss: 0.2697 - val_acc: 0.8898\n",
      "Epoch 13/25\n",
      "10000/10000 [==============================] - 104s 10ms/step - loss: 0.2992 - acc: 0.8739 - val_loss: 0.2711 - val_acc: 0.8890\n",
      "Epoch 14/25\n",
      "10000/10000 [==============================] - 104s 10ms/step - loss: 0.2936 - acc: 0.8769 - val_loss: 0.2789 - val_acc: 0.8874\n",
      "Epoch 15/25\n",
      "10000/10000 [==============================] - 104s 10ms/step - loss: 0.2947 - acc: 0.8780 - val_loss: 0.2716 - val_acc: 0.8916\n",
      "Epoch 16/25\n"
     ]
    },
    {
     "name": "stdout",
     "output_type": "stream",
     "text": [
      "10000/10000 [==============================] - 104s 10ms/step - loss: 0.2880 - acc: 0.8813 - val_loss: 0.2723 - val_acc: 0.8876\n",
      "Epoch 17/25\n",
      "10000/10000 [==============================] - 104s 10ms/step - loss: 0.2881 - acc: 0.8796 - val_loss: 0.2738 - val_acc: 0.8888\n",
      "Epoch 18/25\n",
      "10000/10000 [==============================] - 104s 10ms/step - loss: 0.2875 - acc: 0.8790 - val_loss: 0.2693 - val_acc: 0.8904\n",
      "Epoch 19/25\n",
      "10000/10000 [==============================] - 103s 10ms/step - loss: 0.2892 - acc: 0.8801 - val_loss: 0.2707 - val_acc: 0.8896\n",
      "Epoch 20/25\n",
      "10000/10000 [==============================] - 104s 10ms/step - loss: 0.2853 - acc: 0.8768 - val_loss: 0.2799 - val_acc: 0.8898\n",
      "Epoch 21/25\n",
      "10000/10000 [==============================] - 104s 10ms/step - loss: 0.2888 - acc: 0.8821 - val_loss: 0.2860 - val_acc: 0.8844\n",
      "Epoch 22/25\n",
      "10000/10000 [==============================] - 104s 10ms/step - loss: 0.2809 - acc: 0.8841 - val_loss: 0.2695 - val_acc: 0.8910\n",
      "Epoch 23/25\n",
      "10000/10000 [==============================] - 104s 10ms/step - loss: 0.2865 - acc: 0.8789 - val_loss: 0.2699 - val_acc: 0.8938\n",
      "Epoch 24/25\n",
      "10000/10000 [==============================] - 104s 10ms/step - loss: 0.2879 - acc: 0.8818 - val_loss: 0.2748 - val_acc: 0.8904\n",
      "Epoch 25/25\n",
      "10000/10000 [==============================] - 104s 10ms/step - loss: 0.2810 - acc: 0.8874 - val_loss: 0.2711 - val_acc: 0.8930\n"
     ]
    }
   ],
   "source": [
    "gru_histories = run_model(gru_model)"
   ]
  },
  {
   "cell_type": "code",
   "execution_count": 124,
   "metadata": {},
   "outputs": [
    {
     "data": {
      "image/png": "[encoded data removed]",
      "text/plain": [
       "<Figure size 864x432 with 2 Axes>"
      ]
     },
     "metadata": {
      "needs_background": "light"
     },
     "output_type": "display_data"
    }
   ],
   "source": [
    "plot_accuracy(gru_histories)"
   ]
  },
  {
   "cell_type": "markdown",
   "metadata": {},
   "source": [
    "### LSTM v. GRU Comparison"
   ]
  },
  {
   "cell_type": "code",
   "execution_count": 125,
   "metadata": {},
   "outputs": [
    {
     "name": "stdout",
     "output_type": "stream",
     "text": [
      "Normality Test\n",
      "(0.8711528778076172, 0.2711235284805298)\n",
      "(0.628416121006012, 0.0014575186651200056)\n",
      "\n",
      "LSTM v GRU\n",
      "DescribeResult(nobs=5, minmax=(0.5103, 0.7972), mean=0.6987300000000001, variance=0.013234464500000005, skewness=-0.9640789544677331, kurtosis=-0.518231627054738)\n",
      "DescribeResult(nobs=5, minmax=(0.5549, 0.8661), mean=0.79383, variance=0.017969694500000008, skewness=-1.4734341145903556, kurtosis=0.21317961200359736)\n",
      "Ttest_relResult(statistic=-4.725469484565645, pvalue=0.009134592724027916)\n"
     ]
    }
   ],
   "source": [
    "flat_lstm_histories = flatten(lstm_histories)\n",
    "flat_gru_histories = flatten(gru_histories)\n",
    "\n",
    "print(\"Normality Test\")\n",
    "print(stats.shapiro(flat_lstm_histories))\n",
    "print(stats.shapiro(flat_gru_histories))\n",
    "print()\n",
    "print('LSTM v GRU')\n",
    "print(stats.describe(flat_lstm_histories))\n",
    "print(stats.describe(flat_gru_histories))\n",
    "print(stats.ttest_rel(flat_lstm_histories, flat_gru_histories))"
   ]
  },
  {
   "cell_type": "code",
   "execution_count": 126,
   "metadata": {},
   "outputs": [
    {
     "data": {
      "image/png": "[encoded data removed]",
      "text/plain": [
       "<Figure size 432x288 with 1 Axes>"
      ]
     },
     "metadata": {
      "needs_background": "light"
     },
     "output_type": "display_data"
    }
   ],
   "source": [
    "distributions = [flat_lstm_histories, flat_gru_histories]\n",
    "plt.boxplot(distributions, labels=['LSTM', 'GRU'])\n",
    "plt.xticks(rotation=45)\n",
    "plt.title(\"LSTM v. GRU\")\n",
    "plt.show()"
   ]
  },
  {
   "cell_type": "markdown",
   "metadata": {},
   "source": [
    "## Additional Recurrent Chain"
   ]
  },
  {
   "cell_type": "code",
   "execution_count": 85,
   "metadata": {},
   "outputs": [
    {
     "name": "stdout",
     "output_type": "stream",
     "text": [
      "_________________________________________________________________\n",
      "Layer (type)                 Output Shape              Param #   \n",
      "=================================================================\n",
      "input_4 (InputLayer)         (None, 800)               0         \n",
      "_________________________________________________________________\n",
      "embedding_3 (Embedding)      (None, 800, 50)           5305950   \n",
      "_________________________________________________________________\n",
      "gru_1 (GRU)                  (None, 800, 25)           5700      \n",
      "_________________________________________________________________\n",
      "gru_2 (GRU)                  (None, 25)                3825      \n",
      "_________________________________________________________________\n",
      "dense_4 (Dense)              (None, 2)                 52        \n",
      "=================================================================\n",
      "Total params: 5,315,527\n",
      "Trainable params: 9,577\n",
      "Non-trainable params: 5,305,950\n",
      "_________________________________________________________________\n"
     ]
    }
   ],
   "source": [
    "x = GRU(25, dropout=0.2, recurrent_dropout=0.2, return_sequences=True)(gru_embed)\n",
    "x = GRU(25, dropout=0.2, recurrent_dropout=0.2)(x)\n",
    "x = Dense(NUM_CLASSES, activation='sigmoid', kernel_regularizer=regularizers.l1_l2(0.00001, 0.0001))(x)\n",
    "gru_model_2 = Model(inputs=gru_input_holder,outputs=x)\n",
    "gru_model_2.compile(loss='binary_crossentropy', \n",
    "                    optimizer='rmsprop', \n",
    "                    metrics=['accuracy'])\n",
    "gru_model_2.summary()"
   ]
  },
  {
   "cell_type": "code",
   "execution_count": 86,
   "metadata": {},
   "outputs": [
    {
     "name": "stdout",
     "output_type": "stream",
     "text": [
      "Train on 10000 samples, validate on 2500 samples\n",
      "Epoch 1/25\n",
      "10000/10000 [==============================] - 217s 22ms/step - loss: 0.6785 - acc: 0.5688 - val_loss: 0.6458 - val_acc: 0.6398\n",
      "Epoch 2/25\n",
      "10000/10000 [==============================] - 214s 21ms/step - loss: 0.6349 - acc: 0.6367 - val_loss: 0.5530 - val_acc: 0.7242\n",
      "Epoch 3/25\n",
      "10000/10000 [==============================] - 215s 21ms/step - loss: 0.5660 - acc: 0.7123 - val_loss: 0.4454 - val_acc: 0.7990\n",
      "Epoch 4/25\n",
      "10000/10000 [==============================] - 215s 22ms/step - loss: 0.5207 - acc: 0.7493 - val_loss: 0.4218 - val_acc: 0.8212\n",
      "Epoch 5/25\n",
      "10000/10000 [==============================] - 214s 21ms/step - loss: 0.4929 - acc: 0.7674 - val_loss: 0.3919 - val_acc: 0.8330\n",
      "Epoch 6/25\n",
      "10000/10000 [==============================] - 215s 21ms/step - loss: 0.4717 - acc: 0.7803 - val_loss: 0.3783 - val_acc: 0.8388\n",
      "Epoch 7/25\n",
      "10000/10000 [==============================] - 214s 21ms/step - loss: 0.4612 - acc: 0.7858 - val_loss: 0.3903 - val_acc: 0.8228\n",
      "Epoch 8/25\n",
      "10000/10000 [==============================] - 214s 21ms/step - loss: 0.4435 - acc: 0.7977 - val_loss: 0.3599 - val_acc: 0.8488\n",
      "Epoch 9/25\n",
      "10000/10000 [==============================] - 214s 21ms/step - loss: 0.4359 - acc: 0.8049 - val_loss: 0.3517 - val_acc: 0.8526\n",
      "Epoch 10/25\n",
      "10000/10000 [==============================] - 214s 21ms/step - loss: 0.4285 - acc: 0.8050 - val_loss: 0.3448 - val_acc: 0.8492\n",
      "Epoch 11/25\n",
      "10000/10000 [==============================] - 215s 21ms/step - loss: 0.4168 - acc: 0.8120 - val_loss: 0.3475 - val_acc: 0.8516\n",
      "Epoch 12/25\n",
      "10000/10000 [==============================] - 214s 21ms/step - loss: 0.4129 - acc: 0.8125 - val_loss: 0.3401 - val_acc: 0.8564\n",
      "Epoch 13/25\n",
      "10000/10000 [==============================] - 214s 21ms/step - loss: 0.4064 - acc: 0.8185 - val_loss: 0.3280 - val_acc: 0.8620\n",
      "Epoch 14/25\n",
      "10000/10000 [==============================] - 214s 21ms/step - loss: 0.3979 - acc: 0.8259 - val_loss: 0.3349 - val_acc: 0.8544\n",
      "Epoch 15/25\n",
      "10000/10000 [==============================] - 214s 21ms/step - loss: 0.3924 - acc: 0.8237 - val_loss: 0.3235 - val_acc: 0.8600\n",
      "Epoch 16/25\n",
      "10000/10000 [==============================] - 214s 21ms/step - loss: 0.3947 - acc: 0.8243 - val_loss: 0.3268 - val_acc: 0.8610\n",
      "Epoch 17/25\n",
      "10000/10000 [==============================] - 214s 21ms/step - loss: 0.3855 - acc: 0.8300 - val_loss: 0.3222 - val_acc: 0.8596\n",
      "Epoch 18/25\n",
      "10000/10000 [==============================] - 214s 21ms/step - loss: 0.3790 - acc: 0.8328 - val_loss: 0.3669 - val_acc: 0.8370\n",
      "Epoch 19/25\n",
      "10000/10000 [==============================] - 214s 21ms/step - loss: 0.3821 - acc: 0.8298 - val_loss: 0.3398 - val_acc: 0.8478\n",
      "Epoch 20/25\n",
      "10000/10000 [==============================] - 215s 21ms/step - loss: 0.3746 - acc: 0.8379 - val_loss: 0.3225 - val_acc: 0.8630\n",
      "Epoch 21/25\n",
      "10000/10000 [==============================] - 214s 21ms/step - loss: 0.3772 - acc: 0.8335 - val_loss: 0.3230 - val_acc: 0.8584\n",
      "Epoch 22/25\n",
      "10000/10000 [==============================] - 214s 21ms/step - loss: 0.3678 - acc: 0.8406 - val_loss: 0.3200 - val_acc: 0.8600\n",
      "Epoch 23/25\n",
      "10000/10000 [==============================] - 214s 21ms/step - loss: 0.3564 - acc: 0.8451 - val_loss: 0.3105 - val_acc: 0.8652\n",
      "Epoch 24/25\n",
      "10000/10000 [==============================] - 214s 21ms/step - loss: 0.3589 - acc: 0.8455 - val_loss: 0.3100 - val_acc: 0.8674\n",
      "Epoch 25/25\n",
      "10000/10000 [==============================] - 214s 21ms/step - loss: 0.3586 - acc: 0.8461 - val_loss: 0.3121 - val_acc: 0.8654\n",
      "Train on 10000 samples, validate on 2500 samples\n",
      "Epoch 1/25\n",
      "10000/10000 [==============================] - 214s 21ms/step - loss: 0.3862 - acc: 0.8293 - val_loss: 0.3105 - val_acc: 0.8652\n",
      "Epoch 2/25\n",
      "10000/10000 [==============================] - 214s 21ms/step - loss: 0.3771 - acc: 0.8351 - val_loss: 0.3127 - val_acc: 0.8662\n",
      "Epoch 3/25\n",
      "10000/10000 [==============================] - 214s 21ms/step - loss: 0.3728 - acc: 0.8365 - val_loss: 0.3089 - val_acc: 0.8694\n",
      "Epoch 4/25\n",
      "10000/10000 [==============================] - 214s 21ms/step - loss: 0.3694 - acc: 0.8384 - val_loss: 0.2988 - val_acc: 0.8766\n",
      "Epoch 5/25\n",
      "10000/10000 [==============================] - 214s 21ms/step - loss: 0.3602 - acc: 0.8413 - val_loss: 0.2982 - val_acc: 0.8774\n",
      "Epoch 7/25\n",
      "10000/10000 [==============================] - 214s 21ms/step - loss: 0.3609 - acc: 0.8444 - val_loss: 0.2943 - val_acc: 0.8830\n",
      "Epoch 8/25\n",
      "10000/10000 [==============================] - 215s 21ms/step - loss: 0.3589 - acc: 0.8449 - val_loss: 0.3018 - val_acc: 0.8730\n",
      "Epoch 9/25\n",
      "10000/10000 [==============================] - 214s 21ms/step - loss: 0.3554 - acc: 0.8431 - val_loss: 0.3121 - val_acc: 0.8692\n",
      "Epoch 10/25\n",
      "10000/10000 [==============================] - 214s 21ms/step - loss: 0.3470 - acc: 0.8535 - val_loss: 0.3187 - val_acc: 0.8656\n",
      "Epoch 11/25\n",
      "10000/10000 [==============================] - 214s 21ms/step - loss: 0.3513 - acc: 0.8436 - val_loss: 0.2903 - val_acc: 0.8816\n",
      "Epoch 12/25\n",
      "10000/10000 [==============================] - 214s 21ms/step - loss: 0.3466 - acc: 0.8490 - val_loss: 0.2926 - val_acc: 0.8826\n",
      "Epoch 13/25\n",
      "10000/10000 [==============================] - 214s 21ms/step - loss: 0.3502 - acc: 0.8466 - val_loss: 0.2908 - val_acc: 0.8820\n",
      "Epoch 14/25\n",
      "10000/10000 [==============================] - 215s 21ms/step - loss: 0.3415 - acc: 0.8526 - val_loss: 0.2945 - val_acc: 0.8808\n",
      "Epoch 15/25\n",
      "10000/10000 [==============================] - 215s 21ms/step - loss: 0.3381 - acc: 0.8577 - val_loss: 0.3008 - val_acc: 0.8754\n",
      "Epoch 16/25\n",
      "10000/10000 [==============================] - 214s 21ms/step - loss: 0.3456 - acc: 0.8497 - val_loss: 0.2860 - val_acc: 0.8870\n",
      "Epoch 17/25\n",
      "10000/10000 [==============================] - 214s 21ms/step - loss: 0.3370 - acc: 0.8563 - val_loss: 0.2969 - val_acc: 0.8762\n",
      "Epoch 18/25\n",
      "10000/10000 [==============================] - 214s 21ms/step - loss: 0.3408 - acc: 0.8497 - val_loss: 0.3108 - val_acc: 0.8692\n",
      "Epoch 19/25\n",
      "10000/10000 [==============================] - 214s 21ms/step - loss: 0.3339 - acc: 0.8573 - val_loss: 0.2977 - val_acc: 0.8748\n",
      "Epoch 20/25\n",
      "10000/10000 [==============================] - 215s 21ms/step - loss: 0.3318 - acc: 0.8599 - val_loss: 0.2924 - val_acc: 0.8818\n",
      "Epoch 21/25\n",
      "10000/10000 [==============================] - 214s 21ms/step - loss: 0.3336 - acc: 0.8541 - val_loss: 0.2877 - val_acc: 0.8844\n",
      "Epoch 22/25\n",
      "10000/10000 [==============================] - 215s 21ms/step - loss: 0.3248 - acc: 0.8609 - val_loss: 0.2857 - val_acc: 0.8846\n",
      "Epoch 23/25\n",
      "10000/10000 [==============================] - 214s 21ms/step - loss: 0.3242 - acc: 0.8601 - val_loss: 0.2949 - val_acc: 0.8784\n",
      "Epoch 24/25\n",
      "10000/10000 [==============================] - 215s 21ms/step - loss: 0.3261 - acc: 0.8600 - val_loss: 0.2948 - val_acc: 0.8784\n",
      "Epoch 25/25\n",
      "10000/10000 [==============================] - 214s 21ms/step - loss: 0.3260 - acc: 0.8624 - val_loss: 0.2862 - val_acc: 0.8794\n",
      "Train on 10000 samples, validate on 2500 samples\n",
      "Epoch 1/25\n",
      "10000/10000 [==============================] - 215s 21ms/step - loss: 0.3318 - acc: 0.8563 - val_loss: 0.2872 - val_acc: 0.8824\n",
      "Epoch 2/25\n",
      "10000/10000 [==============================] - 214s 21ms/step - loss: 0.3263 - acc: 0.8602 - val_loss: 0.2916 - val_acc: 0.8804\n",
      "Epoch 3/25\n",
      "10000/10000 [==============================] - 214s 21ms/step - loss: 0.3279 - acc: 0.8588 - val_loss: 0.2867 - val_acc: 0.8800\n",
      "Epoch 4/25\n",
      "10000/10000 [==============================] - 214s 21ms/step - loss: 0.3293 - acc: 0.8599 - val_loss: 0.2862 - val_acc: 0.8800\n",
      "Epoch 5/25\n",
      "10000/10000 [==============================] - 215s 21ms/step - loss: 0.3234 - acc: 0.8636 - val_loss: 0.3100 - val_acc: 0.8696\n",
      "Epoch 6/25\n",
      "10000/10000 [==============================] - 214s 21ms/step - loss: 0.3180 - acc: 0.8624 - val_loss: 0.2945 - val_acc: 0.8772\n",
      "Epoch 7/25\n",
      "10000/10000 [==============================] - 213s 21ms/step - loss: 0.3138 - acc: 0.8640 - val_loss: 0.2889 - val_acc: 0.8820\n",
      "Epoch 8/25\n",
      "10000/10000 [==============================] - 212s 21ms/step - loss: 0.3190 - acc: 0.8645 - val_loss: 0.3004 - val_acc: 0.8732\n",
      "Epoch 9/25\n"
     ]
    },
    {
     "name": "stdout",
     "output_type": "stream",
     "text": [
      "10000/10000 [==============================] - 212s 21ms/step - loss: 0.3082 - acc: 0.8681 - val_loss: 0.2927 - val_acc: 0.8788\n",
      "Epoch 10/25\n",
      "10000/10000 [==============================] - 213s 21ms/step - loss: 0.3095 - acc: 0.8679 - val_loss: 0.2883 - val_acc: 0.8812\n",
      "Epoch 11/25\n",
      "10000/10000 [==============================] - 212s 21ms/step - loss: 0.3089 - acc: 0.8665 - val_loss: 0.2981 - val_acc: 0.8752\n",
      "Epoch 12/25\n",
      "10000/10000 [==============================] - 214s 21ms/step - loss: 0.3095 - acc: 0.8670 - val_loss: 0.2892 - val_acc: 0.8760\n",
      "Epoch 13/25\n",
      "10000/10000 [==============================] - 213s 21ms/step - loss: 0.3091 - acc: 0.8705 - val_loss: 0.2903 - val_acc: 0.8790\n",
      "Epoch 14/25\n",
      "10000/10000 [==============================] - 212s 21ms/step - loss: 0.3027 - acc: 0.8689 - val_loss: 0.2915 - val_acc: 0.8774\n",
      "Epoch 15/25\n",
      "10000/10000 [==============================] - 213s 21ms/step - loss: 0.2970 - acc: 0.8746 - val_loss: 0.2992 - val_acc: 0.8740\n",
      "Epoch 16/25\n",
      "10000/10000 [==============================] - 213s 21ms/step - loss: 0.3016 - acc: 0.8731 - val_loss: 0.2956 - val_acc: 0.8782\n",
      "Epoch 17/25\n",
      "10000/10000 [==============================] - 213s 21ms/step - loss: 0.3030 - acc: 0.8720 - val_loss: 0.2944 - val_acc: 0.8764\n",
      "Epoch 18/25\n",
      "10000/10000 [==============================] - 212s 21ms/step - loss: 0.2907 - acc: 0.8750 - val_loss: 0.2984 - val_acc: 0.8732\n",
      "Epoch 19/25\n",
      "10000/10000 [==============================] - 213s 21ms/step - loss: 0.2931 - acc: 0.8730 - val_loss: 0.2977 - val_acc: 0.8790\n",
      "Epoch 20/25\n",
      "10000/10000 [==============================] - 212s 21ms/step - loss: 0.2925 - acc: 0.8771 - val_loss: 0.2947 - val_acc: 0.8742\n",
      "Epoch 21/25\n",
      "10000/10000 [==============================] - 212s 21ms/step - loss: 0.2967 - acc: 0.8765 - val_loss: 0.2937 - val_acc: 0.8774\n",
      "Epoch 22/25\n",
      "10000/10000 [==============================] - 213s 21ms/step - loss: 0.2951 - acc: 0.8729 - val_loss: 0.3036 - val_acc: 0.8720\n",
      "Epoch 23/25\n",
      "10000/10000 [==============================] - 213s 21ms/step - loss: 0.2960 - acc: 0.8747 - val_loss: 0.3007 - val_acc: 0.8746\n",
      "Epoch 24/25\n",
      "10000/10000 [==============================] - 215s 21ms/step - loss: 0.2909 - acc: 0.8778 - val_loss: 0.2918 - val_acc: 0.8806\n",
      "Epoch 25/25\n",
      "10000/10000 [==============================] - 215s 21ms/step - loss: 0.2872 - acc: 0.8780 - val_loss: 0.2923 - val_acc: 0.8802\n",
      "Train on 10000 samples, validate on 2500 samples\n",
      "Epoch 1/25\n",
      "10000/10000 [==============================] - 215s 22ms/step - loss: 0.3287 - acc: 0.8579 - val_loss: 0.2765 - val_acc: 0.8884\n",
      "Epoch 2/25\n",
      "10000/10000 [==============================] - 212s 21ms/step - loss: 0.3299 - acc: 0.8617 - val_loss: 0.2736 - val_acc: 0.8894\n",
      "Epoch 3/25\n",
      "10000/10000 [==============================] - 214s 21ms/step - loss: 0.3181 - acc: 0.8635 - val_loss: 0.2702 - val_acc: 0.8916\n",
      "Epoch 4/25\n",
      "10000/10000 [==============================] - 213s 21ms/step - loss: 0.3130 - acc: 0.8659 - val_loss: 0.2735 - val_acc: 0.8874\n",
      "Epoch 5/25\n",
      "10000/10000 [==============================] - 212s 21ms/step - loss: 0.3194 - acc: 0.8633 - val_loss: 0.2840 - val_acc: 0.8836\n",
      "Epoch 6/25\n",
      "10000/10000 [==============================] - 215s 21ms/step - loss: 0.3067 - acc: 0.8712 - val_loss: 0.2804 - val_acc: 0.8820\n",
      "Epoch 7/25\n",
      "10000/10000 [==============================] - 215s 21ms/step - loss: 0.3131 - acc: 0.8656 - val_loss: 0.2681 - val_acc: 0.8920\n",
      "Epoch 8/25\n",
      "10000/10000 [==============================] - 215s 21ms/step - loss: 0.3085 - acc: 0.8669 - val_loss: 0.2685 - val_acc: 0.8876\n",
      "Epoch 9/25\n",
      "10000/10000 [==============================] - 215s 21ms/step - loss: 0.3070 - acc: 0.8665 - val_loss: 0.2689 - val_acc: 0.8894\n",
      "Epoch 10/25\n",
      "10000/10000 [==============================] - 214s 21ms/step - loss: 0.3025 - acc: 0.8745 - val_loss: 0.2750 - val_acc: 0.8858\n",
      "Epoch 11/25\n",
      "10000/10000 [==============================] - 214s 21ms/step - loss: 0.3080 - acc: 0.8697 - val_loss: 0.2682 - val_acc: 0.8878\n",
      "Epoch 12/25\n",
      "10000/10000 [==============================] - 214s 21ms/step - loss: 0.3034 - acc: 0.8736 - val_loss: 0.3013 - val_acc: 0.8756\n",
      "Epoch 13/25\n",
      "10000/10000 [==============================] - 215s 21ms/step - loss: 0.3029 - acc: 0.8655 - val_loss: 0.2753 - val_acc: 0.8858\n",
      "Epoch 14/25\n",
      "10000/10000 [==============================] - 214s 21ms/step - loss: 0.3046 - acc: 0.8711 - val_loss: 0.2690 - val_acc: 0.8850\n",
      "Epoch 15/25\n",
      "10000/10000 [==============================] - 215s 22ms/step - loss: 0.3025 - acc: 0.8694 - val_loss: 0.2710 - val_acc: 0.8896\n",
      "Epoch 16/25\n",
      "10000/10000 [==============================] - 214s 21ms/step - loss: 0.3005 - acc: 0.8699 - val_loss: 0.2703 - val_acc: 0.8878\n",
      "Epoch 17/25\n",
      "10000/10000 [==============================] - 215s 21ms/step - loss: 0.3019 - acc: 0.8702 - val_loss: 0.2742 - val_acc: 0.8874\n",
      "Epoch 18/25\n",
      "10000/10000 [==============================] - 214s 21ms/step - loss: 0.3008 - acc: 0.8671 - val_loss: 0.2693 - val_acc: 0.8886\n",
      "Epoch 19/25\n",
      "10000/10000 [==============================] - 215s 22ms/step - loss: 0.2972 - acc: 0.8735 - val_loss: 0.2982 - val_acc: 0.8778\n",
      "Epoch 20/25\n",
      "10000/10000 [==============================] - 214s 21ms/step - loss: 0.3031 - acc: 0.8701 - val_loss: 0.2676 - val_acc: 0.8910\n",
      "Epoch 21/25\n",
      "10000/10000 [==============================] - 214s 21ms/step - loss: 0.2995 - acc: 0.8742 - val_loss: 0.2696 - val_acc: 0.8876\n",
      "Epoch 22/25\n",
      "10000/10000 [==============================] - 214s 21ms/step - loss: 0.2937 - acc: 0.8751 - val_loss: 0.2711 - val_acc: 0.8878\n",
      "Epoch 23/25\n",
      "10000/10000 [==============================] - 214s 21ms/step - loss: 0.2938 - acc: 0.8744 - val_loss: 0.2748 - val_acc: 0.8868\n",
      "Epoch 24/25\n",
      "10000/10000 [==============================] - 215s 21ms/step - loss: 0.2894 - acc: 0.8780 - val_loss: 0.2899 - val_acc: 0.8786\n",
      "Epoch 25/25\n",
      "10000/10000 [==============================] - 215s 21ms/step - loss: 0.2931 - acc: 0.8760 - val_loss: 0.2795 - val_acc: 0.8836\n",
      "Train on 10000 samples, validate on 2500 samples\n",
      "Epoch 1/25\n",
      "10000/10000 [==============================] - 215s 22ms/step - loss: 0.3135 - acc: 0.8669 - val_loss: 0.2615 - val_acc: 0.8914\n",
      "Epoch 2/25\n",
      "10000/10000 [==============================] - 215s 21ms/step - loss: 0.3104 - acc: 0.8688 - val_loss: 0.2649 - val_acc: 0.8876\n",
      "Epoch 3/25\n",
      "10000/10000 [==============================] - 214s 21ms/step - loss: 0.3080 - acc: 0.8669 - val_loss: 0.2915 - val_acc: 0.8740\n",
      "Epoch 4/25\n",
      "10000/10000 [==============================] - 214s 21ms/step - loss: 0.3074 - acc: 0.8678 - val_loss: 0.2620 - val_acc: 0.8888\n",
      "Epoch 5/25\n",
      "10000/10000 [==============================] - 214s 21ms/step - loss: 0.2998 - acc: 0.8760 - val_loss: 0.2622 - val_acc: 0.8904\n",
      "Epoch 6/25\n",
      "10000/10000 [==============================] - 215s 21ms/step - loss: 0.2972 - acc: 0.8728 - val_loss: 0.2608 - val_acc: 0.8924\n",
      "Epoch 7/25\n",
      "10000/10000 [==============================] - 215s 21ms/step - loss: 0.3031 - acc: 0.8720 - val_loss: 0.2613 - val_acc: 0.8910\n",
      "Epoch 8/25\n",
      "10000/10000 [==============================] - 214s 21ms/step - loss: 0.2962 - acc: 0.8747 - val_loss: 0.2645 - val_acc: 0.8892\n",
      "Epoch 9/25\n",
      "10000/10000 [==============================] - 212s 21ms/step - loss: 0.2980 - acc: 0.8727 - val_loss: 0.2605 - val_acc: 0.8948\n",
      "Epoch 10/25\n",
      "10000/10000 [==============================] - 212s 21ms/step - loss: 0.2966 - acc: 0.8713 - val_loss: 0.2652 - val_acc: 0.8908\n",
      "Epoch 11/25\n",
      "10000/10000 [==============================] - 214s 21ms/step - loss: 0.2993 - acc: 0.8720 - val_loss: 0.2627 - val_acc: 0.8914\n",
      "Epoch 12/25\n",
      "10000/10000 [==============================] - 212s 21ms/step - loss: 0.2901 - acc: 0.8772 - val_loss: 0.2738 - val_acc: 0.8872\n",
      "Epoch 13/25\n",
      "10000/10000 [==============================] - 213s 21ms/step - loss: 0.2901 - acc: 0.8746 - val_loss: 0.2809 - val_acc: 0.8828\n",
      "Epoch 14/25\n",
      "10000/10000 [==============================] - 213s 21ms/step - loss: 0.2895 - acc: 0.8779 - val_loss: 0.2721 - val_acc: 0.8884\n",
      "Epoch 15/25\n",
      "10000/10000 [==============================] - 212s 21ms/step - loss: 0.2903 - acc: 0.8732 - val_loss: 0.2717 - val_acc: 0.8902\n",
      "Epoch 16/25\n",
      "10000/10000 [==============================] - 212s 21ms/step - loss: 0.2861 - acc: 0.8815 - val_loss: 0.2641 - val_acc: 0.8926\n",
      "Epoch 17/25\n"
     ]
    },
    {
     "name": "stdout",
     "output_type": "stream",
     "text": [
      "10000/10000 [==============================] - 213s 21ms/step - loss: 0.2825 - acc: 0.8800 - val_loss: 0.2631 - val_acc: 0.8900\n",
      "Epoch 18/25\n",
      "10000/10000 [==============================] - 213s 21ms/step - loss: 0.2891 - acc: 0.8760 - val_loss: 0.2674 - val_acc: 0.8904\n",
      "Epoch 19/25\n",
      "10000/10000 [==============================] - 213s 21ms/step - loss: 0.2779 - acc: 0.8832 - val_loss: 0.2659 - val_acc: 0.8920\n",
      "Epoch 20/25\n",
      "10000/10000 [==============================] - 213s 21ms/step - loss: 0.2812 - acc: 0.8833 - val_loss: 0.2635 - val_acc: 0.8926\n",
      "Epoch 21/25\n",
      "10000/10000 [==============================] - 213s 21ms/step - loss: 0.2784 - acc: 0.8805 - val_loss: 0.2790 - val_acc: 0.8880\n",
      "Epoch 22/25\n",
      "10000/10000 [==============================] - 213s 21ms/step - loss: 0.2806 - acc: 0.8794 - val_loss: 0.2793 - val_acc: 0.8876\n",
      "Epoch 23/25\n",
      "10000/10000 [==============================] - 213s 21ms/step - loss: 0.2832 - acc: 0.8785 - val_loss: 0.2745 - val_acc: 0.8906\n",
      "Epoch 24/25\n",
      "10000/10000 [==============================] - 212s 21ms/step - loss: 0.2773 - acc: 0.8845 - val_loss: 0.2704 - val_acc: 0.8932\n",
      "Epoch 25/25\n",
      "10000/10000 [==============================] - 213s 21ms/step - loss: 0.2781 - acc: 0.8836 - val_loss: 0.2655 - val_acc: 0.8920\n"
     ]
    }
   ],
   "source": [
    "gru_histories_2 = run_model(gru_model_2)"
   ]
  },
  {
   "cell_type": "code",
   "execution_count": 127,
   "metadata": {},
   "outputs": [
    {
     "data": {
      "image/png": "[encoded data removed]",
      "text/plain": [
       "<Figure size 864x432 with 2 Axes>"
      ]
     },
     "metadata": {
      "needs_background": "light"
     },
     "output_type": "display_data"
    }
   ],
   "source": [
    "plot_accuracy(gru_histories_2)"
   ]
  },
  {
   "cell_type": "markdown",
   "metadata": {},
   "source": [
    "### Comparison"
   ]
  },
  {
   "cell_type": "code",
   "execution_count": 128,
   "metadata": {},
   "outputs": [
    {
     "name": "stdout",
     "output_type": "stream",
     "text": [
      "Normality Test\n",
      "(0.6443394422531128, 0.0022804047912359238)\n",
      "\n",
      "GRU v GRU2\n",
      "DescribeResult(nobs=5, minmax=(0.5549, 0.8661), mean=0.79383, variance=0.017969694500000008, skewness=-1.4734341145903556, kurtosis=0.21317961200359736)\n",
      "DescribeResult(nobs=5, minmax=(0.5688, 0.86685), mean=0.7958299999999999, variance=0.016303328250000002, skewness=-1.4563167683313163, kurtosis=0.18793455957359173)\n",
      "Ttest_relResult(statistic=-0.6093357044324321, pvalue=0.575214610593697)\n"
     ]
    }
   ],
   "source": [
    "flat_gru_histories_2 = flatten(gru_histories_2)\n",
    "\n",
    "print(\"Normality Test\")\n",
    "print(stats.shapiro(flat_gru_histories_2))\n",
    "print()\n",
    "print('GRU v GRU2')\n",
    "print(stats.describe(flat_gru_histories))\n",
    "print(stats.describe(flat_gru_histories_2))\n",
    "print(stats.ttest_rel(flat_gru_histories, flat_gru_histories_2))"
   ]
  },
  {
   "cell_type": "code",
   "execution_count": 129,
   "metadata": {},
   "outputs": [
    {
     "data": {
      "image/png": "[encoded data removed]",
      "text/plain": [
       "<Figure size 432x288 with 1 Axes>"
      ]
     },
     "metadata": {
      "needs_background": "light"
     },
     "output_type": "display_data"
    }
   ],
   "source": [
    "distributions = [flat_gru_histories, flat_gru_histories_2]\n",
    "plt.boxplot(distributions, labels=['GRU', 'GRU2'])\n",
    "plt.xticks(rotation=45)\n",
    "plt.title('GRU v GRU2')\n",
    "plt.show()"
   ]
  },
  {
   "cell_type": "markdown",
   "metadata": {},
   "source": [
    "# Exceptional work"
   ]
  },
  {
   "cell_type": "markdown",
   "metadata": {},
   "source": [
    "### Visualizing the model"
   ]
  },
  {
   "cell_type": "code",
   "execution_count": 194,
   "metadata": {},
   "outputs": [
    {
     "name": "stdout",
     "output_type": "stream",
     "text": [
      "_________________________________________________________________\n",
      "Layer (type)                 Output Shape              Param #   \n",
      "=================================================================\n",
      "input_4 (InputLayer)         (None, 800)               0         \n",
      "_________________________________________________________________\n",
      "embedding_3 (Embedding)      (None, 800, 50)           5305950   \n",
      "_________________________________________________________________\n",
      "gru_1 (GRU)                  (None, 800, 25)           5700      \n",
      "_________________________________________________________________\n",
      "gru_2 (GRU)                  (None, 25)                3825      \n",
      "_________________________________________________________________\n",
      "dense_4 (Dense)              (None, 2)                 52        \n",
      "=================================================================\n",
      "Total params: 5,315,527\n",
      "Trainable params: 9,577\n",
      "Non-trainable params: 5,305,950\n",
      "_________________________________________________________________\n"
     ]
    }
   ],
   "source": [
    "gru_model_2.summary()"
   ]
  },
  {
   "cell_type": "markdown",
   "metadata": {},
   "source": [
    "### Get embedding weights"
   ]
  },
  {
   "cell_type": "markdown",
   "metadata": {},
   "source": [
    "From the model summary above we see that we have to extract the weights from the second layer (1st in zeroed notation)"
   ]
  },
  {
   "cell_type": "code",
   "execution_count": 195,
   "metadata": {},
   "outputs": [
    {
     "name": "stdout",
     "output_type": "stream",
     "text": [
      "(106119, 50)\n"
     ]
    }
   ],
   "source": [
    "# get embedding layer\n",
    "emb_layer = gru_model_2.layers[1]\n",
    "emb_weights = np.array(emb_layer.get_weights()).reshape(106119, 50)\n",
    "print(emb_weights.shape)"
   ]
  },
  {
   "cell_type": "markdown",
   "metadata": {},
   "source": [
    "Therefore each word is embedded int a 50 dimensional array."
   ]
  },
  {
   "cell_type": "markdown",
   "metadata": {},
   "source": [
    "### UMAP Dimensionality reduction of the Embedding"
   ]
  },
  {
   "cell_type": "markdown",
   "metadata": {},
   "source": [
    "We reduce the 50 dimension to 2 using UMAP in order to visualize the geometrical relationships between words and how they correlate with semantic relationships."
   ]
  },
  {
   "cell_type": "code",
   "execution_count": 196,
   "metadata": {},
   "outputs": [],
   "source": [
    "import umap"
   ]
  },
  {
   "cell_type": "code",
   "execution_count": 197,
   "metadata": {},
   "outputs": [
    {
     "name": "stdout",
     "output_type": "stream",
     "text": [
      "(106119, 2)\n"
     ]
    }
   ],
   "source": [
    "reducer = umap.UMAP(n_components=2)\n",
    "red_emb = reducer.fit_transform(emb_weights)\n",
    "print(red_emb.shape)"
   ]
  },
  {
   "cell_type": "code",
   "execution_count": 198,
   "metadata": {},
   "outputs": [],
   "source": [
    "word_index\n",
    "red_words = {k: word_index[k] for k in list(word_index)[:5000]}"
   ]
  },
  {
   "cell_type": "code",
   "execution_count": 199,
   "metadata": {},
   "outputs": [],
   "source": [
    "# Genre analysis\n",
    "genres = ['horror', 'thriller', 'crime', 'western', 'action', 'comedy', 'romance', 'fiction', 'fantasy', 'animation', 'historical', 'documentary', 'drama', 'science']\n",
    "\n",
    "temp = []\n",
    "for g in genres:\n",
    "    temp.append([value for key, value in red_words.items() if g == key])\n",
    "\n",
    "g_values = []\n",
    "for t in temp[:]:\n",
    "    g_values.append(t[0])\n",
    "    "
   ]
  },
  {
   "cell_type": "code",
   "execution_count": 207,
   "metadata": {},
   "outputs": [
    {
     "data": {
      "image/png": "[encoded data removed]",
      "text/plain": [
       "<Figure size 720x720 with 1 Axes>"
      ]
     },
     "metadata": {
      "needs_background": "light"
     },
     "output_type": "display_data"
    }
   ],
   "source": [
    "mer = red_emb[g_values]\n",
    "sns.color_palette(\"Paired\")\n",
    "plt.figure(figsize=[10, 10])\n",
    "sns.scatterplot(mer[:,0], mer[:,1], alpha=0.7, s=400, hue=genres)\n",
    "for i in range(len(genres)):\n",
    "    if (i % 2) == 0:\n",
    "        adj = float(-0.05)\n",
    "    else:\n",
    "        adj = float(0.05)\n",
    "    plt.text(x=mer[i,0]+adj, y=mer[i,1]+adj, s=genres[i])\n",
    "plt.show()"
   ]
  },
  {
   "cell_type": "code",
   "execution_count": 201,
   "metadata": {},
   "outputs": [],
   "source": [
    "moods = ['fantastic', 'incredible', 'awesome', 'great', 'good', 'ok', 'alright', 'bad', 'awful', 'disappointing', 'worst', 'disgusting']\n",
    "\n",
    "temp = []\n",
    "for m in moods:\n",
    "    temp.append([value for key, value in red_words.items() if m == key])\n",
    "    \n",
    "m_values = []\n",
    "for t in temp:\n",
    "    m_values.append(t[0])"
   ]
  },
  {
   "cell_type": "code",
   "execution_count": 209,
   "metadata": {},
   "outputs": [
    {
     "data": {
      "image/png": "[encoded data removed]",
      "text/plain": [
       "<Figure size 720x720 with 1 Axes>"
      ]
     },
     "metadata": {
      "needs_background": "light"
     },
     "output_type": "display_data"
    }
   ],
   "source": [
    "mood = red_emb[m_values]\n",
    "sns.color_palette(\"Paired\")\n",
    "plt.figure(figsize=[10, 10])\n",
    "sns.scatterplot(mood[:,0], mood[:,1], alpha=0.7, s=600, hue=moods)\n",
    "for i in range(len(moods)):\n",
    "    if (i % 2) == 0:\n",
    "        adj = float(+0.05)\n",
    "    else:\n",
    "        adj = float(-0.05)\n",
    "    plt.text(x=mood[i,0], y=mood[i,1], s=moods[i])\n",
    "plt.show()"
   ]
  },
  {
   "cell_type": "markdown",
   "metadata": {},
   "source": [
    "### Analysis of \"synonym space\" of the moods words\n",
    "\n",
    "It is interesting the words spacially close to the key mood words selected in the embedding are meaningfully close to it as well. We performed a distance analysis and extracted the key values. We observe that in most cases the words found are synonym of close meaning-wise. This result indicate that our model well transpose semantic relationships between words into geometrical relationships in the embedding."
   ]
  },
  {
   "cell_type": "code",
   "execution_count": 203,
   "metadata": {},
   "outputs": [
    {
     "name": "stdout",
     "output_type": "stream",
     "text": [
      "Reference      Predicted Synonyms\n",
      "['fantastic']     ['amazing', 'awesome', 'terrific', 'unbelievable', 'tragic', 'amazed', 'annoyed']\n",
      "['incredible']     ['strange', 'unfortunate']\n",
      "['awesome']     ['amazing', 'fantastic', 'terrific', 'unbelievable', 'tragic', 'amazed']\n",
      "['great']     ['quick', 'remain', 'send', 'latest', 'term', 'figures', 'prepare']\n",
      "['good']     ['see', 'person', 'doing']\n",
      "['ok']     ['sex', 'yeah', 'hey', 'gonna', 'regret', 'gotta']\n",
      "['alright']     ['emotion', 'bitter']\n",
      "['bad']     ['seems', 'seem', 'unless', 'pro']\n",
      "['awful']     ['interesting', 'exciting', 'ugly', 'shocking']\n",
      "['disappointing']     ['bother', 'innocent', 'wondered']\n",
      "['worst']     ['tells', 'witnessed']\n",
      "['disgusting']     ['scary', 'predictable', 'physically']\n"
     ]
    }
   ],
   "source": [
    "def distance(p1, p2):\n",
    "    x1, x2, y1, y2 = p1[0], p2[0], p1[1], p2[1]\n",
    "    dist = np.sqrt((x2 - x1)**2 + (y2 - y1)**2)\n",
    "    return dist\n",
    "    \n",
    "def top_closest(indx, emb):\n",
    "    ref = emb[indx]\n",
    "    dist = [distance(ref, p) for p in emb]\n",
    "    sort_dist = np.argsort(dist)\n",
    "    return sort_dist[1:11]\n",
    "\n",
    "def get_key(val, dic):\n",
    "\n",
    "    ret = []\n",
    "    for key, value in dic.items():\n",
    "        for v in val:\n",
    "            if v == value:\n",
    "                ret.append(key)\n",
    "    return ret\n",
    "\n",
    "print('Reference', '     Predicted Synonyms')\n",
    "for i in m_values:\n",
    "    ref_key = [key for key, value in red_words.items() if i == value]\n",
    "    values = top_closest(i, red_emb)\n",
    "    print(str(ref_key), '   ', get_key(values, red_words))\n"
   ]
  }
 ],
 "metadata": {
  "kernelspec": {
   "display_name": "keras",
   "language": "python",
   "name": "keras"
  },
  "language_info": {
   "codemirror_mode": {
    "name": "ipython",
    "version": 3
   },
   "file_extension": ".py",
   "mimetype": "text/x-python",
   "name": "python",
   "nbconvert_exporter": "python",
   "pygments_lexer": "ipython3",
   "version": "3.6.7"
  }
 },
 "nbformat": 4,
 "nbformat_minor": 2
}
